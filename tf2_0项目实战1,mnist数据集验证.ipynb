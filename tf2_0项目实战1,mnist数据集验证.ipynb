{
  "nbformat": 4,
  "nbformat_minor": 0,
  "metadata": {
    "colab": {
      "name": "tf2.0项目实战1,mnist数据集验证.ipynb",
      "provenance": [],
      "collapsed_sections": [],
      "toc_visible": true,
      "mount_file_id": "19kLunuDu70pbfREsQLUIIJm-sxO8a1WY",
      "authorship_tag": "ABX9TyP12HClCEiKuDJe0Ja3M8g8",
      "include_colab_link": true
    },
    "kernelspec": {
      "name": "python3",
      "display_name": "Python 3"
    }
  },
  "cells": [
    {
      "cell_type": "markdown",
      "metadata": {
        "id": "view-in-github",
        "colab_type": "text"
      },
      "source": [
        "<a href=\"https://colab.research.google.com/github/xiexukang/tensorflow-/blob/master/tf2_0%E9%A1%B9%E7%9B%AE%E5%AE%9E%E6%88%981%2Cmnist%E6%95%B0%E6%8D%AE%E9%9B%86%E9%AA%8C%E8%AF%81.ipynb\" target=\"_parent\"><img src=\"https://colab.research.google.com/assets/colab-badge.svg\" alt=\"Open In Colab\"/></a>"
      ]
    },
    {
      "cell_type": "code",
      "metadata": {
        "id": "Ticn-yFET4Sr",
        "colab_type": "code",
        "colab": {}
      },
      "source": [
        "import tensorflow as tf\n"
      ],
      "execution_count": 0,
      "outputs": []
    },
    {
      "cell_type": "code",
      "metadata": {
        "id": "u7C7ENTKCrgG",
        "colab_type": "code",
        "colab": {
          "base_uri": "https://localhost:8080/",
          "height": 55
        },
        "outputId": "4c06aa7f-a128-4c25-b77a-8fbaad087d65"
      },
      "source": [
        "print(dir(tf))"
      ],
      "execution_count": 2,
      "outputs": [
        {
          "output_type": "stream",
          "text": [
            "['AggregationMethod', 'Assert', 'CriticalSection', 'DType', 'DeviceSpec', 'GradientTape', 'Graph', 'IndexedSlices', 'IndexedSlicesSpec', 'Module', 'Operation', 'OptionalSpec', 'RaggedTensor', 'RaggedTensorSpec', 'RegisterGradient', 'SparseTensor', 'SparseTensorSpec', 'Tensor', 'TensorArray', 'TensorArraySpec', 'TensorShape', 'TensorSpec', 'TypeSpec', 'UnconnectedGradients', 'Variable', 'VariableAggregation', 'VariableSynchronization', '_API_MODULE', '_LazyLoader', '__all__', '__builtins__', '__cached__', '__compiler_version__', '__cxx11_abi_flag__', '__doc__', '__file__', '__git_version__', '__loader__', '__monolithic_build__', '__name__', '__package__', '__path__', '__spec__', '__version__', '_absolute_import', '_api', '_compat', '_current_file_location', '_current_module', '_distutils', '_division', '_estimator_module', '_fi', '_inspect', '_ll', '_logging', '_main_dir', '_major_api_version', '_module_dir', '_module_util', '_names_with_underscore', '_os', '_plugin_dir', '_print_function', '_running_from_pip_package', '_s', '_site', '_site_packages_dirs', '_six', '_sys', '_tf_api_dir', '_typing', 'abs', 'acos', 'acosh', 'add', 'add_n', 'argmax', 'argmin', 'argsort', 'as_dtype', 'as_string', 'asin', 'asinh', 'assert_equal', 'assert_greater', 'assert_less', 'assert_rank', 'atan', 'atan2', 'atanh', 'audio', 'autodiff', 'autograph', 'batch_to_space', 'bfloat16', 'bitcast', 'bitwise', 'bool', 'boolean_mask', 'broadcast_dynamic_shape', 'broadcast_static_shape', 'broadcast_to', 'case', 'cast', 'clip_by_global_norm', 'clip_by_norm', 'clip_by_value', 'compat', 'compiler', 'complex', 'complex128', 'complex64', 'concat', 'cond', 'config', 'constant', 'constant_initializer', 'control_dependencies', 'convert_to_tensor', 'core', 'cos', 'cosh', 'cumsum', 'custom_gradient', 'data', 'debugging', 'device', 'distribute', 'divide', 'double', 'dtypes', 'dynamic_partition', 'dynamic_stitch', 'edit_distance', 'eig', 'eigvals', 'einsum', 'ensure_shape', 'equal', 'errors', 'estimator', 'executing_eagerly', 'exp', 'expand_dims', 'experimental', 'extract_volume_patches', 'eye', 'feature_column', 'fill', 'fingerprint', 'float16', 'float32', 'float64', 'floor', 'foldl', 'foldr', 'function', 'gather', 'gather_nd', 'get_logger', 'get_static_value', 'grad_pass_through', 'gradients', 'graph_util', 'greater', 'greater_equal', 'group', 'guarantee_const', 'half', 'hessians', 'histogram_fixed_width', 'histogram_fixed_width_bins', 'identity', 'identity_n', 'image', 'import_graph_def', 'init_scope', 'initializers', 'int16', 'int32', 'int64', 'int8', 'io', 'is_tensor', 'keras', 'less', 'less_equal', 'linalg', 'linspace', 'lite', 'load_library', 'load_op_library', 'logical_and', 'logical_not', 'logical_or', 'lookup', 'losses', 'make_ndarray', 'make_tensor_proto', 'map_fn', 'math', 'matmul', 'matrix_square_root', 'maximum', 'meshgrid', 'metrics', 'minimum', 'mixed_precision', 'mlir', 'multiply', 'name_scope', 'negative', 'nest', 'newaxis', 'nn', 'no_gradient', 'no_op', 'nondifferentiable_batch_function', 'norm', 'not_equal', 'numpy_function', 'one_hot', 'ones', 'ones_initializer', 'ones_like', 'optimizers', 'pad', 'parallel_stack', 'pow', 'print', 'profiler', 'py_function', 'python', 'qint16', 'qint32', 'qint8', 'quantization', 'queue', 'quint16', 'quint8', 'ragged', 'random', 'random_normal_initializer', 'random_uniform_initializer', 'range', 'rank', 'raw_ops', 'realdiv', 'recompute_grad', 'reduce_all', 'reduce_any', 'reduce_logsumexp', 'reduce_max', 'reduce_mean', 'reduce_min', 'reduce_prod', 'reduce_sum', 'register_tensor_conversion_function', 'repeat', 'required_space_to_batch_paddings', 'reshape', 'resource', 'reverse', 'reverse_sequence', 'roll', 'round', 'saturate_cast', 'saved_model', 'scalar_mul', 'scan', 'scatter_nd', 'searchsorted', 'sequence_mask', 'sets', 'shape', 'shape_n', 'sigmoid', 'sign', 'signal', 'sin', 'sinh', 'size', 'slice', 'sort', 'space_to_batch', 'space_to_batch_nd', 'sparse', 'split', 'sqrt', 'square', 'squeeze', 'stack', 'stop_gradient', 'strided_slice', 'string', 'strings', 'subtract', 'summary', 'switch_case', 'sysconfig', 'tan', 'tanh', 'tensor_scatter_nd_add', 'tensor_scatter_nd_sub', 'tensor_scatter_nd_update', 'tensordot', 'test', 'tile', 'timestamp', 'tools', 'tpu', 'train', 'transpose', 'truediv', 'truncatediv', 'truncatemod', 'tuple', 'uint16', 'uint32', 'uint64', 'uint8', 'unique', 'unique_with_counts', 'unravel_index', 'unstack', 'variable_creator_scope', 'variant', 'vectorized_map', 'version', 'where', 'while_loop', 'xla', 'zeros', 'zeros_initializer', 'zeros_like']\n"
          ],
          "name": "stdout"
        }
      ]
    },
    {
      "cell_type": "code",
      "metadata": {
        "id": "NMNkTdDjTYNB",
        "colab_type": "code",
        "colab": {
          "base_uri": "https://localhost:8080/",
          "height": 53
        },
        "outputId": "0bcef9df-b7bd-4a22-d3af-3c593d71140a"
      },
      "source": [
        "mnist = tf.keras.datasets.mnist.load_data()"
      ],
      "execution_count": 3,
      "outputs": [
        {
          "output_type": "stream",
          "text": [
            "Downloading data from https://storage.googleapis.com/tensorflow/tf-keras-datasets/mnist.npz\n",
            "11493376/11490434 [==============================] - 0s 0us/step\n"
          ],
          "name": "stdout"
        }
      ]
    },
    {
      "cell_type": "code",
      "metadata": {
        "id": "mbZLfJVPTlZM",
        "colab_type": "code",
        "colab": {}
      },
      "source": [
        "(train_x,train_y),(test_x,test_y) = mnist"
      ],
      "execution_count": 0,
      "outputs": []
    },
    {
      "cell_type": "code",
      "metadata": {
        "id": "Nnpt0R5UToQR",
        "colab_type": "code",
        "colab": {
          "base_uri": "https://localhost:8080/",
          "height": 35
        },
        "outputId": "c5048b4a-7daa-4e2b-ea0d-bd6c95a9c375"
      },
      "source": [
        "train_x.shape"
      ],
      "execution_count": 5,
      "outputs": [
        {
          "output_type": "execute_result",
          "data": {
            "text/plain": [
              "(60000, 28, 28)"
            ]
          },
          "metadata": {
            "tags": []
          },
          "execution_count": 5
        }
      ]
    },
    {
      "cell_type": "markdown",
      "metadata": {
        "id": "4I2St_B4zhgx",
        "colab_type": "text"
      },
      "source": [
        "# 使用matplotlib画出几张mnist数据集的图片"
      ]
    },
    {
      "cell_type": "code",
      "metadata": {
        "id": "UcMgmCQuzgfk",
        "colab_type": "code",
        "colab": {}
      },
      "source": [
        "import matplotlib.pyplot as plt\n"
      ],
      "execution_count": 0,
      "outputs": []
    },
    {
      "cell_type": "code",
      "metadata": {
        "id": "MVNVlYsqfgdm",
        "colab_type": "code",
        "outputId": "e1111f18-e582-44ca-b016-3479a096df00",
        "colab": {
          "base_uri": "https://localhost:8080/",
          "height": 1000
        }
      },
      "source": [
        "train_x[0]"
      ],
      "execution_count": 7,
      "outputs": [
        {
          "output_type": "execute_result",
          "data": {
            "text/plain": [
              "array([[  0,   0,   0,   0,   0,   0,   0,   0,   0,   0,   0,   0,   0,\n",
              "          0,   0,   0,   0,   0,   0,   0,   0,   0,   0,   0,   0,   0,\n",
              "          0,   0],\n",
              "       [  0,   0,   0,   0,   0,   0,   0,   0,   0,   0,   0,   0,   0,\n",
              "          0,   0,   0,   0,   0,   0,   0,   0,   0,   0,   0,   0,   0,\n",
              "          0,   0],\n",
              "       [  0,   0,   0,   0,   0,   0,   0,   0,   0,   0,   0,   0,   0,\n",
              "          0,   0,   0,   0,   0,   0,   0,   0,   0,   0,   0,   0,   0,\n",
              "          0,   0],\n",
              "       [  0,   0,   0,   0,   0,   0,   0,   0,   0,   0,   0,   0,   0,\n",
              "          0,   0,   0,   0,   0,   0,   0,   0,   0,   0,   0,   0,   0,\n",
              "          0,   0],\n",
              "       [  0,   0,   0,   0,   0,   0,   0,   0,   0,   0,   0,   0,   0,\n",
              "          0,   0,   0,   0,   0,   0,   0,   0,   0,   0,   0,   0,   0,\n",
              "          0,   0],\n",
              "       [  0,   0,   0,   0,   0,   0,   0,   0,   0,   0,   0,   0,   3,\n",
              "         18,  18,  18, 126, 136, 175,  26, 166, 255, 247, 127,   0,   0,\n",
              "          0,   0],\n",
              "       [  0,   0,   0,   0,   0,   0,   0,   0,  30,  36,  94, 154, 170,\n",
              "        253, 253, 253, 253, 253, 225, 172, 253, 242, 195,  64,   0,   0,\n",
              "          0,   0],\n",
              "       [  0,   0,   0,   0,   0,   0,   0,  49, 238, 253, 253, 253, 253,\n",
              "        253, 253, 253, 253, 251,  93,  82,  82,  56,  39,   0,   0,   0,\n",
              "          0,   0],\n",
              "       [  0,   0,   0,   0,   0,   0,   0,  18, 219, 253, 253, 253, 253,\n",
              "        253, 198, 182, 247, 241,   0,   0,   0,   0,   0,   0,   0,   0,\n",
              "          0,   0],\n",
              "       [  0,   0,   0,   0,   0,   0,   0,   0,  80, 156, 107, 253, 253,\n",
              "        205,  11,   0,  43, 154,   0,   0,   0,   0,   0,   0,   0,   0,\n",
              "          0,   0],\n",
              "       [  0,   0,   0,   0,   0,   0,   0,   0,   0,  14,   1, 154, 253,\n",
              "         90,   0,   0,   0,   0,   0,   0,   0,   0,   0,   0,   0,   0,\n",
              "          0,   0],\n",
              "       [  0,   0,   0,   0,   0,   0,   0,   0,   0,   0,   0, 139, 253,\n",
              "        190,   2,   0,   0,   0,   0,   0,   0,   0,   0,   0,   0,   0,\n",
              "          0,   0],\n",
              "       [  0,   0,   0,   0,   0,   0,   0,   0,   0,   0,   0,  11, 190,\n",
              "        253,  70,   0,   0,   0,   0,   0,   0,   0,   0,   0,   0,   0,\n",
              "          0,   0],\n",
              "       [  0,   0,   0,   0,   0,   0,   0,   0,   0,   0,   0,   0,  35,\n",
              "        241, 225, 160, 108,   1,   0,   0,   0,   0,   0,   0,   0,   0,\n",
              "          0,   0],\n",
              "       [  0,   0,   0,   0,   0,   0,   0,   0,   0,   0,   0,   0,   0,\n",
              "         81, 240, 253, 253, 119,  25,   0,   0,   0,   0,   0,   0,   0,\n",
              "          0,   0],\n",
              "       [  0,   0,   0,   0,   0,   0,   0,   0,   0,   0,   0,   0,   0,\n",
              "          0,  45, 186, 253, 253, 150,  27,   0,   0,   0,   0,   0,   0,\n",
              "          0,   0],\n",
              "       [  0,   0,   0,   0,   0,   0,   0,   0,   0,   0,   0,   0,   0,\n",
              "          0,   0,  16,  93, 252, 253, 187,   0,   0,   0,   0,   0,   0,\n",
              "          0,   0],\n",
              "       [  0,   0,   0,   0,   0,   0,   0,   0,   0,   0,   0,   0,   0,\n",
              "          0,   0,   0,   0, 249, 253, 249,  64,   0,   0,   0,   0,   0,\n",
              "          0,   0],\n",
              "       [  0,   0,   0,   0,   0,   0,   0,   0,   0,   0,   0,   0,   0,\n",
              "          0,  46, 130, 183, 253, 253, 207,   2,   0,   0,   0,   0,   0,\n",
              "          0,   0],\n",
              "       [  0,   0,   0,   0,   0,   0,   0,   0,   0,   0,   0,   0,  39,\n",
              "        148, 229, 253, 253, 253, 250, 182,   0,   0,   0,   0,   0,   0,\n",
              "          0,   0],\n",
              "       [  0,   0,   0,   0,   0,   0,   0,   0,   0,   0,  24, 114, 221,\n",
              "        253, 253, 253, 253, 201,  78,   0,   0,   0,   0,   0,   0,   0,\n",
              "          0,   0],\n",
              "       [  0,   0,   0,   0,   0,   0,   0,   0,  23,  66, 213, 253, 253,\n",
              "        253, 253, 198,  81,   2,   0,   0,   0,   0,   0,   0,   0,   0,\n",
              "          0,   0],\n",
              "       [  0,   0,   0,   0,   0,   0,  18, 171, 219, 253, 253, 253, 253,\n",
              "        195,  80,   9,   0,   0,   0,   0,   0,   0,   0,   0,   0,   0,\n",
              "          0,   0],\n",
              "       [  0,   0,   0,   0,  55, 172, 226, 253, 253, 253, 253, 244, 133,\n",
              "         11,   0,   0,   0,   0,   0,   0,   0,   0,   0,   0,   0,   0,\n",
              "          0,   0],\n",
              "       [  0,   0,   0,   0, 136, 253, 253, 253, 212, 135, 132,  16,   0,\n",
              "          0,   0,   0,   0,   0,   0,   0,   0,   0,   0,   0,   0,   0,\n",
              "          0,   0],\n",
              "       [  0,   0,   0,   0,   0,   0,   0,   0,   0,   0,   0,   0,   0,\n",
              "          0,   0,   0,   0,   0,   0,   0,   0,   0,   0,   0,   0,   0,\n",
              "          0,   0],\n",
              "       [  0,   0,   0,   0,   0,   0,   0,   0,   0,   0,   0,   0,   0,\n",
              "          0,   0,   0,   0,   0,   0,   0,   0,   0,   0,   0,   0,   0,\n",
              "          0,   0],\n",
              "       [  0,   0,   0,   0,   0,   0,   0,   0,   0,   0,   0,   0,   0,\n",
              "          0,   0,   0,   0,   0,   0,   0,   0,   0,   0,   0,   0,   0,\n",
              "          0,   0]], dtype=uint8)"
            ]
          },
          "metadata": {
            "tags": []
          },
          "execution_count": 7
        }
      ]
    },
    {
      "cell_type": "code",
      "metadata": {
        "id": "Pqrvrvpbfpgd",
        "colab_type": "code",
        "outputId": "f749eebe-0cc0-44cb-86b0-a7dc9c8949d6",
        "colab": {
          "base_uri": "https://localhost:8080/",
          "height": 35
        }
      },
      "source": [
        "train_y[0]"
      ],
      "execution_count": 8,
      "outputs": [
        {
          "output_type": "execute_result",
          "data": {
            "text/plain": [
              "5"
            ]
          },
          "metadata": {
            "tags": []
          },
          "execution_count": 8
        }
      ]
    },
    {
      "cell_type": "code",
      "metadata": {
        "id": "vv6Lxq6df3Mc",
        "colab_type": "code",
        "outputId": "dd932876-a419-4d0c-fc18-e4e1302a3327",
        "colab": {
          "base_uri": "https://localhost:8080/",
          "height": 1000
        }
      },
      "source": [
        "dir(plt)\n"
      ],
      "execution_count": 9,
      "outputs": [
        {
          "output_type": "execute_result",
          "data": {
            "text/plain": [
              "['Annotation',\n",
              " 'Arrow',\n",
              " 'Artist',\n",
              " 'AutoLocator',\n",
              " 'Axes',\n",
              " 'Button',\n",
              " 'Circle',\n",
              " 'Figure',\n",
              " 'FigureCanvasBase',\n",
              " 'FixedFormatter',\n",
              " 'FixedLocator',\n",
              " 'FormatStrFormatter',\n",
              " 'Formatter',\n",
              " 'FuncFormatter',\n",
              " 'GridSpec',\n",
              " 'IndexLocator',\n",
              " 'Line2D',\n",
              " 'LinearLocator',\n",
              " 'Locator',\n",
              " 'LogFormatter',\n",
              " 'LogFormatterExponent',\n",
              " 'LogFormatterMathtext',\n",
              " 'LogLocator',\n",
              " 'MaxNLocator',\n",
              " 'MultipleLocator',\n",
              " 'Normalize',\n",
              " 'NullFormatter',\n",
              " 'NullLocator',\n",
              " 'Number',\n",
              " 'PolarAxes',\n",
              " 'Polygon',\n",
              " 'Rectangle',\n",
              " 'ScalarFormatter',\n",
              " 'Slider',\n",
              " 'Subplot',\n",
              " 'SubplotTool',\n",
              " 'Text',\n",
              " 'TickHelper',\n",
              " 'Widget',\n",
              " '_INSTALL_FIG_OBSERVER',\n",
              " '_IP_REGISTERED',\n",
              " '__builtins__',\n",
              " '__cached__',\n",
              " '__doc__',\n",
              " '__file__',\n",
              " '__loader__',\n",
              " '__name__',\n",
              " '__package__',\n",
              " '__spec__',\n",
              " '_auto_draw_if_interactive',\n",
              " '_backend_mod',\n",
              " '_get_running_interactive_framework',\n",
              " '_interactive_bk',\n",
              " '_log',\n",
              " '_pylab_helpers',\n",
              " '_setp',\n",
              " '_setup_pyplot_info_docstrings',\n",
              " '_show',\n",
              " 'acorr',\n",
              " 'angle_spectrum',\n",
              " 'annotate',\n",
              " 'arrow',\n",
              " 'autoscale',\n",
              " 'autumn',\n",
              " 'axes',\n",
              " 'axhline',\n",
              " 'axhspan',\n",
              " 'axis',\n",
              " 'axvline',\n",
              " 'axvspan',\n",
              " 'bar',\n",
              " 'barbs',\n",
              " 'barh',\n",
              " 'bone',\n",
              " 'box',\n",
              " 'boxplot',\n",
              " 'broken_barh',\n",
              " 'cbook',\n",
              " 'cla',\n",
              " 'clabel',\n",
              " 'clf',\n",
              " 'clim',\n",
              " 'close',\n",
              " 'cm',\n",
              " 'cohere',\n",
              " 'colorbar',\n",
              " 'colormaps',\n",
              " 'connect',\n",
              " 'contour',\n",
              " 'contourf',\n",
              " 'cool',\n",
              " 'copper',\n",
              " 'csd',\n",
              " 'cycler',\n",
              " 'dedent',\n",
              " 'delaxes',\n",
              " 'deprecated',\n",
              " 'disconnect',\n",
              " 'docstring',\n",
              " 'draw',\n",
              " 'draw_all',\n",
              " 'draw_if_interactive',\n",
              " 'errorbar',\n",
              " 'eventplot',\n",
              " 'figaspect',\n",
              " 'figimage',\n",
              " 'figlegend',\n",
              " 'fignum_exists',\n",
              " 'figtext',\n",
              " 'figure',\n",
              " 'fill',\n",
              " 'fill_between',\n",
              " 'fill_betweenx',\n",
              " 'findobj',\n",
              " 'flag',\n",
              " 'functools',\n",
              " 'gca',\n",
              " 'gcf',\n",
              " 'gci',\n",
              " 'get',\n",
              " 'get_backend',\n",
              " 'get_cmap',\n",
              " 'get_current_fig_manager',\n",
              " 'get_figlabels',\n",
              " 'get_fignums',\n",
              " 'get_plot_commands',\n",
              " 'get_scale_docs',\n",
              " 'get_scale_names',\n",
              " 'getp',\n",
              " 'ginput',\n",
              " 'gray',\n",
              " 'grid',\n",
              " 'hexbin',\n",
              " 'hist',\n",
              " 'hist2d',\n",
              " 'hlines',\n",
              " 'hot',\n",
              " 'hsv',\n",
              " 'importlib',\n",
              " 'imread',\n",
              " 'imsave',\n",
              " 'imshow',\n",
              " 'inferno',\n",
              " 'inspect',\n",
              " 'install_repl_displayhook',\n",
              " 'interactive',\n",
              " 'ioff',\n",
              " 'ion',\n",
              " 'isinteractive',\n",
              " 'jet',\n",
              " 'legend',\n",
              " 'locator_params',\n",
              " 'logging',\n",
              " 'loglog',\n",
              " 'magma',\n",
              " 'magnitude_spectrum',\n",
              " 'margins',\n",
              " 'matplotlib',\n",
              " 'matshow',\n",
              " 'minorticks_off',\n",
              " 'minorticks_on',\n",
              " 'mlab',\n",
              " 'new_figure_manager',\n",
              " 'nipy_spectral',\n",
              " 'np',\n",
              " 'pause',\n",
              " 'pcolor',\n",
              " 'pcolormesh',\n",
              " 'phase_spectrum',\n",
              " 'pie',\n",
              " 'pink',\n",
              " 'plasma',\n",
              " 'plot',\n",
              " 'plot_date',\n",
              " 'plotfile',\n",
              " 'plotting',\n",
              " 'polar',\n",
              " 'prism',\n",
              " 'psd',\n",
              " 'quiver',\n",
              " 'quiverkey',\n",
              " 'rc',\n",
              " 'rcParams',\n",
              " 'rcParamsDefault',\n",
              " 'rcParamsOrig',\n",
              " 'rc_context',\n",
              " 'rcdefaults',\n",
              " 'rcsetup',\n",
              " 're',\n",
              " 'register_cmap',\n",
              " 'rgrids',\n",
              " 'savefig',\n",
              " 'sca',\n",
              " 'scatter',\n",
              " 'sci',\n",
              " 'semilogx',\n",
              " 'semilogy',\n",
              " 'set_cmap',\n",
              " 'set_loglevel',\n",
              " 'setp',\n",
              " 'show',\n",
              " 'silent_list',\n",
              " 'specgram',\n",
              " 'spring',\n",
              " 'spy',\n",
              " 'stackplot',\n",
              " 'stem',\n",
              " 'step',\n",
              " 'streamplot',\n",
              " 'style',\n",
              " 'subplot',\n",
              " 'subplot2grid',\n",
              " 'subplot_tool',\n",
              " 'subplots',\n",
              " 'subplots_adjust',\n",
              " 'summer',\n",
              " 'suptitle',\n",
              " 'switch_backend',\n",
              " 'sys',\n",
              " 'table',\n",
              " 'text',\n",
              " 'thetagrids',\n",
              " 'tick_params',\n",
              " 'ticklabel_format',\n",
              " 'tight_layout',\n",
              " 'time',\n",
              " 'title',\n",
              " 'tricontour',\n",
              " 'tricontourf',\n",
              " 'tripcolor',\n",
              " 'triplot',\n",
              " 'twinx',\n",
              " 'twiny',\n",
              " 'uninstall_repl_displayhook',\n",
              " 'violinplot',\n",
              " 'viridis',\n",
              " 'vlines',\n",
              " 'waitforbuttonpress',\n",
              " 'warn_deprecated',\n",
              " 'winter',\n",
              " 'xcorr',\n",
              " 'xkcd',\n",
              " 'xlabel',\n",
              " 'xlim',\n",
              " 'xscale',\n",
              " 'xticks',\n",
              " 'ylabel',\n",
              " 'ylim',\n",
              " 'yscale',\n",
              " 'yticks']"
            ]
          },
          "metadata": {
            "tags": []
          },
          "execution_count": 9
        }
      ]
    },
    {
      "cell_type": "code",
      "metadata": {
        "id": "mUoNXQFbgOvm",
        "colab_type": "code",
        "colab": {
          "base_uri": "https://localhost:8080/",
          "height": 536
        },
        "outputId": "f44ff160-8379-4cd5-d32c-173c5c4c1bef"
      },
      "source": [
        "plt.figure(figsize=(8,8),dpi=80)#画布大小\n",
        "\n",
        "for i in range(8):\n",
        "  plt.subplot(3,3,i+1)\n",
        "\n",
        "  plt.imshow(train_x[i])\n",
        "  plt.title(\"%s\"%train_y[i])\n",
        "  plt.xticks([])#去掉坐标线\n",
        "  plt.yticks([])\n",
        "  "
      ],
      "execution_count": 10,
      "outputs": [
        {
          "output_type": "display_data",
          "data": {
            "image/png": "[encoded data removed]",
            "text/plain": [
              "<Figure size 640x640 with 8 Axes>"
            ]
          },
          "metadata": {
            "tags": []
          }
        }
      ]
    },
    {
      "cell_type": "markdown",
      "metadata": {
        "id": "4awn-47167TA",
        "colab_type": "text"
      },
      "source": [
        "# 数据处理"
      ]
    },
    {
      "cell_type": "code",
      "metadata": {
        "id": "Lx8Qhzxo63Q4",
        "colab_type": "code",
        "colab": {}
      },
      "source": [
        "train_x,test_x = train_x/255.0, test_x/255.0"
      ],
      "execution_count": 0,
      "outputs": []
    },
    {
      "cell_type": "code",
      "metadata": {
        "id": "q9Kc8mKg7Tcl",
        "colab_type": "code",
        "colab": {
          "base_uri": "https://localhost:8080/",
          "height": 1000
        },
        "outputId": "bd80cc73-54ed-46b6-e997-7f39bcf9b1fe"
      },
      "source": [
        "train_x[0]"
      ],
      "execution_count": 12,
      "outputs": [
        {
          "output_type": "execute_result",
          "data": {
            "text/plain": [
              "array([[0.        , 0.        , 0.        , 0.        , 0.        ,\n",
              "        0.        , 0.        , 0.        , 0.        , 0.        ,\n",
              "        0.        , 0.        , 0.        , 0.        , 0.        ,\n",
              "        0.        , 0.        , 0.        , 0.        , 0.        ,\n",
              "        0.        , 0.        , 0.        , 0.        , 0.        ,\n",
              "        0.        , 0.        , 0.        ],\n",
              "       [0.        , 0.        , 0.        , 0.        , 0.        ,\n",
              "        0.        , 0.        , 0.        , 0.        , 0.        ,\n",
              "        0.        , 0.        , 0.        , 0.        , 0.        ,\n",
              "        0.        , 0.        , 0.        , 0.        , 0.        ,\n",
              "        0.        , 0.        , 0.        , 0.        , 0.        ,\n",
              "        0.        , 0.        , 0.        ],\n",
              "       [0.        , 0.        , 0.        , 0.        , 0.        ,\n",
              "        0.        , 0.        , 0.        , 0.        , 0.        ,\n",
              "        0.        , 0.        , 0.        , 0.        , 0.        ,\n",
              "        0.        , 0.        , 0.        , 0.        , 0.        ,\n",
              "        0.        , 0.        , 0.        , 0.        , 0.        ,\n",
              "        0.        , 0.        , 0.        ],\n",
              "       [0.        , 0.        , 0.        , 0.        , 0.        ,\n",
              "        0.        , 0.        , 0.        , 0.        , 0.        ,\n",
              "        0.        , 0.        , 0.        , 0.        , 0.        ,\n",
              "        0.        , 0.        , 0.        , 0.        , 0.        ,\n",
              "        0.        , 0.        , 0.        , 0.        , 0.        ,\n",
              "        0.        , 0.        , 0.        ],\n",
              "       [0.        , 0.        , 0.        , 0.        , 0.        ,\n",
              "        0.        , 0.        , 0.        , 0.        , 0.        ,\n",
              "        0.        , 0.        , 0.        , 0.        , 0.        ,\n",
              "        0.        , 0.        , 0.        , 0.        , 0.        ,\n",
              "        0.        , 0.        , 0.        , 0.        , 0.        ,\n",
              "        0.        , 0.        , 0.        ],\n",
              "       [0.        , 0.        , 0.        , 0.        , 0.        ,\n",
              "        0.        , 0.        , 0.        , 0.        , 0.        ,\n",
              "        0.        , 0.        , 0.01176471, 0.07058824, 0.07058824,\n",
              "        0.07058824, 0.49411765, 0.53333333, 0.68627451, 0.10196078,\n",
              "        0.65098039, 1.        , 0.96862745, 0.49803922, 0.        ,\n",
              "        0.        , 0.        , 0.        ],\n",
              "       [0.        , 0.        , 0.        , 0.        , 0.        ,\n",
              "        0.        , 0.        , 0.        , 0.11764706, 0.14117647,\n",
              "        0.36862745, 0.60392157, 0.66666667, 0.99215686, 0.99215686,\n",
              "        0.99215686, 0.99215686, 0.99215686, 0.88235294, 0.6745098 ,\n",
              "        0.99215686, 0.94901961, 0.76470588, 0.25098039, 0.        ,\n",
              "        0.        , 0.        , 0.        ],\n",
              "       [0.        , 0.        , 0.        , 0.        , 0.        ,\n",
              "        0.        , 0.        , 0.19215686, 0.93333333, 0.99215686,\n",
              "        0.99215686, 0.99215686, 0.99215686, 0.99215686, 0.99215686,\n",
              "        0.99215686, 0.99215686, 0.98431373, 0.36470588, 0.32156863,\n",
              "        0.32156863, 0.21960784, 0.15294118, 0.        , 0.        ,\n",
              "        0.        , 0.        , 0.        ],\n",
              "       [0.        , 0.        , 0.        , 0.        , 0.        ,\n",
              "        0.        , 0.        , 0.07058824, 0.85882353, 0.99215686,\n",
              "        0.99215686, 0.99215686, 0.99215686, 0.99215686, 0.77647059,\n",
              "        0.71372549, 0.96862745, 0.94509804, 0.        , 0.        ,\n",
              "        0.        , 0.        , 0.        , 0.        , 0.        ,\n",
              "        0.        , 0.        , 0.        ],\n",
              "       [0.        , 0.        , 0.        , 0.        , 0.        ,\n",
              "        0.        , 0.        , 0.        , 0.31372549, 0.61176471,\n",
              "        0.41960784, 0.99215686, 0.99215686, 0.80392157, 0.04313725,\n",
              "        0.        , 0.16862745, 0.60392157, 0.        , 0.        ,\n",
              "        0.        , 0.        , 0.        , 0.        , 0.        ,\n",
              "        0.        , 0.        , 0.        ],\n",
              "       [0.        , 0.        , 0.        , 0.        , 0.        ,\n",
              "        0.        , 0.        , 0.        , 0.        , 0.05490196,\n",
              "        0.00392157, 0.60392157, 0.99215686, 0.35294118, 0.        ,\n",
              "        0.        , 0.        , 0.        , 0.        , 0.        ,\n",
              "        0.        , 0.        , 0.        , 0.        , 0.        ,\n",
              "        0.        , 0.        , 0.        ],\n",
              "       [0.        , 0.        , 0.        , 0.        , 0.        ,\n",
              "        0.        , 0.        , 0.        , 0.        , 0.        ,\n",
              "        0.        , 0.54509804, 0.99215686, 0.74509804, 0.00784314,\n",
              "        0.        , 0.        , 0.        , 0.        , 0.        ,\n",
              "        0.        , 0.        , 0.        , 0.        , 0.        ,\n",
              "        0.        , 0.        , 0.        ],\n",
              "       [0.        , 0.        , 0.        , 0.        , 0.        ,\n",
              "        0.        , 0.        , 0.        , 0.        , 0.        ,\n",
              "        0.        , 0.04313725, 0.74509804, 0.99215686, 0.2745098 ,\n",
              "        0.        , 0.        , 0.        , 0.        , 0.        ,\n",
              "        0.        , 0.        , 0.        , 0.        , 0.        ,\n",
              "        0.        , 0.        , 0.        ],\n",
              "       [0.        , 0.        , 0.        , 0.        , 0.        ,\n",
              "        0.        , 0.        , 0.        , 0.        , 0.        ,\n",
              "        0.        , 0.        , 0.1372549 , 0.94509804, 0.88235294,\n",
              "        0.62745098, 0.42352941, 0.00392157, 0.        , 0.        ,\n",
              "        0.        , 0.        , 0.        , 0.        , 0.        ,\n",
              "        0.        , 0.        , 0.        ],\n",
              "       [0.        , 0.        , 0.        , 0.        , 0.        ,\n",
              "        0.        , 0.        , 0.        , 0.        , 0.        ,\n",
              "        0.        , 0.        , 0.        , 0.31764706, 0.94117647,\n",
              "        0.99215686, 0.99215686, 0.46666667, 0.09803922, 0.        ,\n",
              "        0.        , 0.        , 0.        , 0.        , 0.        ,\n",
              "        0.        , 0.        , 0.        ],\n",
              "       [0.        , 0.        , 0.        , 0.        , 0.        ,\n",
              "        0.        , 0.        , 0.        , 0.        , 0.        ,\n",
              "        0.        , 0.        , 0.        , 0.        , 0.17647059,\n",
              "        0.72941176, 0.99215686, 0.99215686, 0.58823529, 0.10588235,\n",
              "        0.        , 0.        , 0.        , 0.        , 0.        ,\n",
              "        0.        , 0.        , 0.        ],\n",
              "       [0.        , 0.        , 0.        , 0.        , 0.        ,\n",
              "        0.        , 0.        , 0.        , 0.        , 0.        ,\n",
              "        0.        , 0.        , 0.        , 0.        , 0.        ,\n",
              "        0.0627451 , 0.36470588, 0.98823529, 0.99215686, 0.73333333,\n",
              "        0.        , 0.        , 0.        , 0.        , 0.        ,\n",
              "        0.        , 0.        , 0.        ],\n",
              "       [0.        , 0.        , 0.        , 0.        , 0.        ,\n",
              "        0.        , 0.        , 0.        , 0.        , 0.        ,\n",
              "        0.        , 0.        , 0.        , 0.        , 0.        ,\n",
              "        0.        , 0.        , 0.97647059, 0.99215686, 0.97647059,\n",
              "        0.25098039, 0.        , 0.        , 0.        , 0.        ,\n",
              "        0.        , 0.        , 0.        ],\n",
              "       [0.        , 0.        , 0.        , 0.        , 0.        ,\n",
              "        0.        , 0.        , 0.        , 0.        , 0.        ,\n",
              "        0.        , 0.        , 0.        , 0.        , 0.18039216,\n",
              "        0.50980392, 0.71764706, 0.99215686, 0.99215686, 0.81176471,\n",
              "        0.00784314, 0.        , 0.        , 0.        , 0.        ,\n",
              "        0.        , 0.        , 0.        ],\n",
              "       [0.        , 0.        , 0.        , 0.        , 0.        ,\n",
              "        0.        , 0.        , 0.        , 0.        , 0.        ,\n",
              "        0.        , 0.        , 0.15294118, 0.58039216, 0.89803922,\n",
              "        0.99215686, 0.99215686, 0.99215686, 0.98039216, 0.71372549,\n",
              "        0.        , 0.        , 0.        , 0.        , 0.        ,\n",
              "        0.        , 0.        , 0.        ],\n",
              "       [0.        , 0.        , 0.        , 0.        , 0.        ,\n",
              "        0.        , 0.        , 0.        , 0.        , 0.        ,\n",
              "        0.09411765, 0.44705882, 0.86666667, 0.99215686, 0.99215686,\n",
              "        0.99215686, 0.99215686, 0.78823529, 0.30588235, 0.        ,\n",
              "        0.        , 0.        , 0.        , 0.        , 0.        ,\n",
              "        0.        , 0.        , 0.        ],\n",
              "       [0.        , 0.        , 0.        , 0.        , 0.        ,\n",
              "        0.        , 0.        , 0.        , 0.09019608, 0.25882353,\n",
              "        0.83529412, 0.99215686, 0.99215686, 0.99215686, 0.99215686,\n",
              "        0.77647059, 0.31764706, 0.00784314, 0.        , 0.        ,\n",
              "        0.        , 0.        , 0.        , 0.        , 0.        ,\n",
              "        0.        , 0.        , 0.        ],\n",
              "       [0.        , 0.        , 0.        , 0.        , 0.        ,\n",
              "        0.        , 0.07058824, 0.67058824, 0.85882353, 0.99215686,\n",
              "        0.99215686, 0.99215686, 0.99215686, 0.76470588, 0.31372549,\n",
              "        0.03529412, 0.        , 0.        , 0.        , 0.        ,\n",
              "        0.        , 0.        , 0.        , 0.        , 0.        ,\n",
              "        0.        , 0.        , 0.        ],\n",
              "       [0.        , 0.        , 0.        , 0.        , 0.21568627,\n",
              "        0.6745098 , 0.88627451, 0.99215686, 0.99215686, 0.99215686,\n",
              "        0.99215686, 0.95686275, 0.52156863, 0.04313725, 0.        ,\n",
              "        0.        , 0.        , 0.        , 0.        , 0.        ,\n",
              "        0.        , 0.        , 0.        , 0.        , 0.        ,\n",
              "        0.        , 0.        , 0.        ],\n",
              "       [0.        , 0.        , 0.        , 0.        , 0.53333333,\n",
              "        0.99215686, 0.99215686, 0.99215686, 0.83137255, 0.52941176,\n",
              "        0.51764706, 0.0627451 , 0.        , 0.        , 0.        ,\n",
              "        0.        , 0.        , 0.        , 0.        , 0.        ,\n",
              "        0.        , 0.        , 0.        , 0.        , 0.        ,\n",
              "        0.        , 0.        , 0.        ],\n",
              "       [0.        , 0.        , 0.        , 0.        , 0.        ,\n",
              "        0.        , 0.        , 0.        , 0.        , 0.        ,\n",
              "        0.        , 0.        , 0.        , 0.        , 0.        ,\n",
              "        0.        , 0.        , 0.        , 0.        , 0.        ,\n",
              "        0.        , 0.        , 0.        , 0.        , 0.        ,\n",
              "        0.        , 0.        , 0.        ],\n",
              "       [0.        , 0.        , 0.        , 0.        , 0.        ,\n",
              "        0.        , 0.        , 0.        , 0.        , 0.        ,\n",
              "        0.        , 0.        , 0.        , 0.        , 0.        ,\n",
              "        0.        , 0.        , 0.        , 0.        , 0.        ,\n",
              "        0.        , 0.        , 0.        , 0.        , 0.        ,\n",
              "        0.        , 0.        , 0.        ],\n",
              "       [0.        , 0.        , 0.        , 0.        , 0.        ,\n",
              "        0.        , 0.        , 0.        , 0.        , 0.        ,\n",
              "        0.        , 0.        , 0.        , 0.        , 0.        ,\n",
              "        0.        , 0.        , 0.        , 0.        , 0.        ,\n",
              "        0.        , 0.        , 0.        , 0.        , 0.        ,\n",
              "        0.        , 0.        , 0.        ]])"
            ]
          },
          "metadata": {
            "tags": []
          },
          "execution_count": 12
        }
      ]
    },
    {
      "cell_type": "code",
      "metadata": {
        "id": "RwOQZ1Z47ZAi",
        "colab_type": "code",
        "colab": {}
      },
      "source": [
        "train_y = tf.one_hot(train_y,depth=10)"
      ],
      "execution_count": 0,
      "outputs": []
    },
    {
      "cell_type": "code",
      "metadata": {
        "id": "oFGJh_z57ojT",
        "colab_type": "code",
        "colab": {}
      },
      "source": [
        "train_y = tf.cast(train_y,dtype=tf.int8)"
      ],
      "execution_count": 0,
      "outputs": []
    },
    {
      "cell_type": "code",
      "metadata": {
        "id": "xoX51OYg7-0l",
        "colab_type": "code",
        "colab": {}
      },
      "source": [
        "test_y = tf.one_hot(test_y,depth=10,dtype=tf.int8)"
      ],
      "execution_count": 0,
      "outputs": []
    },
    {
      "cell_type": "code",
      "metadata": {
        "id": "sCNlWTf18KJT",
        "colab_type": "code",
        "colab": {
          "base_uri": "https://localhost:8080/",
          "height": 35
        },
        "outputId": "7d83fe40-26dd-4400-ce77-471630df42a1"
      },
      "source": [
        "test_x.shape"
      ],
      "execution_count": 16,
      "outputs": [
        {
          "output_type": "execute_result",
          "data": {
            "text/plain": [
              "(10000, 28, 28)"
            ]
          },
          "metadata": {
            "tags": []
          },
          "execution_count": 16
        }
      ]
    },
    {
      "cell_type": "code",
      "metadata": {
        "id": "5ZaZMb_j8ahT",
        "colab_type": "code",
        "colab": {
          "base_uri": "https://localhost:8080/",
          "height": 35
        },
        "outputId": "61128e37-8684-49ba-a39b-1a549403e324"
      },
      "source": [
        "test_y.shape"
      ],
      "execution_count": 17,
      "outputs": [
        {
          "output_type": "execute_result",
          "data": {
            "text/plain": [
              "TensorShape([10000, 10])"
            ]
          },
          "metadata": {
            "tags": []
          },
          "execution_count": 17
        }
      ]
    },
    {
      "cell_type": "markdown",
      "metadata": {
        "id": "8RXh4w7I5a9m",
        "colab_type": "text"
      },
      "source": [
        "# 搭建模型\n",
        "\n",
        "\n",
        "1.   softmax逻辑回归\n",
        "2.   使用cnn预测\n",
        "\n"
      ]
    },
    {
      "cell_type": "code",
      "metadata": {
        "id": "IUM_TqhW3_Ow",
        "colab_type": "code",
        "colab": {}
      },
      "source": [
        "model = tf.keras.models.Sequential([tf.keras.layers.Flatten()\n",
        "                  ,tf.keras.layers.Dense(10,activation='softmax')])\n"
      ],
      "execution_count": 0,
      "outputs": []
    },
    {
      "cell_type": "code",
      "metadata": {
        "id": "iOBfBz2v9-hN",
        "colab_type": "code",
        "colab": {}
      },
      "source": [
        "model.build(input_shape=train_x.shape)"
      ],
      "execution_count": 0,
      "outputs": []
    },
    {
      "cell_type": "code",
      "metadata": {
        "id": "m5KWaOuL-Exc",
        "colab_type": "code",
        "colab": {
          "base_uri": "https://localhost:8080/",
          "height": 233
        },
        "outputId": "016a24e1-ff82-4713-f444-8ada0a02b9b0"
      },
      "source": [
        "model.summary()"
      ],
      "execution_count": 20,
      "outputs": [
        {
          "output_type": "stream",
          "text": [
            "Model: \"sequential\"\n",
            "_________________________________________________________________\n",
            "Layer (type)                 Output Shape              Param #   \n",
            "=================================================================\n",
            "flatten (Flatten)            multiple                  0         \n",
            "_________________________________________________________________\n",
            "dense (Dense)                multiple                  7850      \n",
            "=================================================================\n",
            "Total params: 7,850\n",
            "Trainable params: 7,850\n",
            "Non-trainable params: 0\n",
            "_________________________________________________________________\n"
          ],
          "name": "stdout"
        }
      ]
    },
    {
      "cell_type": "code",
      "metadata": {
        "id": "Urv74tWv-Hs2",
        "colab_type": "code",
        "colab": {}
      },
      "source": [
        "model.compile(optimizer='adam',loss='mse',metrics=['accuracy'])"
      ],
      "execution_count": 0,
      "outputs": []
    },
    {
      "cell_type": "code",
      "metadata": {
        "id": "EwbD4c4u-rRH",
        "colab_type": "code",
        "colab": {
          "base_uri": "https://localhost:8080/",
          "height": 755
        },
        "outputId": "a1c1ebd6-d35e-4084-8f68-7b844a6158dc"
      },
      "source": [
        "model.fit(train_x,train_y,batch_size=64,epochs=20,validation_data=(test_x,test_y),shuffle=True,validation_freq=5)"
      ],
      "execution_count": 22,
      "outputs": [
        {
          "output_type": "stream",
          "text": [
            "Epoch 1/20\n",
            "938/938 [==============================] - 1s 1ms/step - loss: 0.0227 - accuracy: 0.8663\n",
            "Epoch 2/20\n",
            "938/938 [==============================] - 1s 1ms/step - loss: 0.0137 - accuracy: 0.9141\n",
            "Epoch 3/20\n",
            "938/938 [==============================] - 1s 1ms/step - loss: 0.0125 - accuracy: 0.9211\n",
            "Epoch 4/20\n",
            "938/938 [==============================] - 1s 1ms/step - loss: 0.0118 - accuracy: 0.9257\n",
            "Epoch 5/20\n",
            "938/938 [==============================] - 2s 2ms/step - loss: 0.0114 - accuracy: 0.9286 - val_loss: 0.0112 - val_accuracy: 0.9298\n",
            "Epoch 6/20\n",
            "938/938 [==============================] - 1s 1ms/step - loss: 0.0110 - accuracy: 0.9305\n",
            "Epoch 7/20\n",
            "938/938 [==============================] - 1s 1ms/step - loss: 0.0108 - accuracy: 0.9324\n",
            "Epoch 8/20\n",
            "938/938 [==============================] - 1s 1ms/step - loss: 0.0106 - accuracy: 0.9337\n",
            "Epoch 9/20\n",
            "938/938 [==============================] - 1s 1ms/step - loss: 0.0105 - accuracy: 0.9345\n",
            "Epoch 10/20\n",
            "938/938 [==============================] - 2s 2ms/step - loss: 0.0103 - accuracy: 0.9353 - val_loss: 0.0107 - val_accuracy: 0.9309\n",
            "Epoch 11/20\n",
            "938/938 [==============================] - 1s 1ms/step - loss: 0.0102 - accuracy: 0.9365\n",
            "Epoch 12/20\n",
            "938/938 [==============================] - 1s 1ms/step - loss: 0.0101 - accuracy: 0.9374\n",
            "Epoch 13/20\n",
            "938/938 [==============================] - 1s 1ms/step - loss: 0.0100 - accuracy: 0.9375\n",
            "Epoch 14/20\n",
            "938/938 [==============================] - 1s 1ms/step - loss: 0.0099 - accuracy: 0.9384\n",
            "Epoch 15/20\n",
            "938/938 [==============================] - 2s 2ms/step - loss: 0.0098 - accuracy: 0.9390 - val_loss: 0.0106 - val_accuracy: 0.9321\n",
            "Epoch 16/20\n",
            "938/938 [==============================] - 1s 1ms/step - loss: 0.0097 - accuracy: 0.9396\n",
            "Epoch 17/20\n",
            "938/938 [==============================] - 1s 1ms/step - loss: 0.0097 - accuracy: 0.9401\n",
            "Epoch 18/20\n",
            "938/938 [==============================] - 1s 1ms/step - loss: 0.0096 - accuracy: 0.9407\n",
            "Epoch 19/20\n",
            "938/938 [==============================] - 1s 1ms/step - loss: 0.0095 - accuracy: 0.9410\n",
            "Epoch 20/20\n",
            "938/938 [==============================] - 2s 2ms/step - loss: 0.0095 - accuracy: 0.9417 - val_loss: 0.0106 - val_accuracy: 0.9335\n"
          ],
          "name": "stdout"
        },
        {
          "output_type": "execute_result",
          "data": {
            "text/plain": [
              "<tensorflow.python.keras.callbacks.History at 0x7f74de655cf8>"
            ]
          },
          "metadata": {
            "tags": []
          },
          "execution_count": 22
        }
      ]
    },
    {
      "cell_type": "code",
      "metadata": {
        "id": "2RqdrCGl_A58",
        "colab_type": "code",
        "colab": {}
      },
      "source": [
        "#根据训练好的模型去预测\n",
        "predicts = model.predict(test_x,batch_size=40)"
      ],
      "execution_count": 0,
      "outputs": []
    },
    {
      "cell_type": "code",
      "metadata": {
        "id": "NFVW6ZIdBmgw",
        "colab_type": "code",
        "colab": {}
      },
      "source": [
        ""
      ],
      "execution_count": 0,
      "outputs": []
    },
    {
      "cell_type": "code",
      "metadata": {
        "id": "zSWf7U3NAah-",
        "colab_type": "code",
        "colab": {}
      },
      "source": [
        "#利用tf.equal()判断真实数据和预测数据的差异，通过tf.argmax来讲最大概率的标签转为索引，1为axis的方向\n",
        "correct_prediction = tf.equal(tf.argmax(predicts[0:100],1),tf.argmax(test_y[0:100],1))"
      ],
      "execution_count": 0,
      "outputs": []
    },
    {
      "cell_type": "code",
      "metadata": {
        "id": "MrcRYxYfAl33",
        "colab_type": "code",
        "colab": {}
      },
      "source": [
        "#计算精确度\n",
        "accuracy = tf.reduce_mean(tf.cast(correct_prediction,tf.float32))"
      ],
      "execution_count": 0,
      "outputs": []
    },
    {
      "cell_type": "code",
      "metadata": {
        "id": "KjeKl6EhBTzV",
        "colab_type": "code",
        "colab": {
          "base_uri": "https://localhost:8080/",
          "height": 35
        },
        "outputId": "dad5d13d-4279-4abf-d440-421613b7aa3e"
      },
      "source": [
        "accuracy"
      ],
      "execution_count": 26,
      "outputs": [
        {
          "output_type": "execute_result",
          "data": {
            "text/plain": [
              "<tf.Tensor: shape=(), dtype=float32, numpy=0.97>"
            ]
          },
          "metadata": {
            "tags": []
          },
          "execution_count": 26
        }
      ]
    },
    {
      "cell_type": "code",
      "metadata": {
        "id": "pLW7a4CHBUix",
        "colab_type": "code",
        "colab": {
          "base_uri": "https://localhost:8080/",
          "height": 251
        },
        "outputId": "d3639a36-b946-4ab8-f47e-47abf1ba2d7b"
      },
      "source": [
        "correct_prediction"
      ],
      "execution_count": 27,
      "outputs": [
        {
          "output_type": "execute_result",
          "data": {
            "text/plain": [
              "<tf.Tensor: shape=(100,), dtype=bool, numpy=\n",
              "array([ True,  True,  True,  True,  True,  True,  True,  True, False,\n",
              "        True,  True,  True,  True,  True,  True,  True,  True,  True,\n",
              "        True,  True,  True,  True,  True,  True,  True,  True,  True,\n",
              "        True,  True,  True,  True,  True,  True, False,  True,  True,\n",
              "        True,  True,  True,  True,  True,  True,  True,  True,  True,\n",
              "        True,  True,  True,  True,  True,  True,  True,  True,  True,\n",
              "        True,  True,  True,  True,  True,  True,  True,  True,  True,\n",
              "        True,  True,  True,  True,  True,  True,  True,  True,  True,\n",
              "        True,  True,  True,  True,  True, False,  True,  True,  True,\n",
              "        True,  True,  True,  True,  True,  True,  True,  True,  True,\n",
              "        True,  True,  True,  True,  True,  True,  True,  True,  True,\n",
              "        True])>"
            ]
          },
          "metadata": {
            "tags": []
          },
          "execution_count": 27
        }
      ]
    },
    {
      "cell_type": "code",
      "metadata": {
        "id": "Mng4JuA4BW8I",
        "colab_type": "code",
        "colab": {}
      },
      "source": [
        "#利于二维卷积的模型去预测\n",
        "model1= tf.keras.models.Sequential([tf.keras.layers.Conv2D(5,3),\n",
        "                    tf.keras.layers.BatchNormalization(),\n",
        "                    tf.keras.layers.Activation('relu'),\n",
        "                    tf.keras.layers.MaxPool2D((2,2)),\n",
        "                    tf.keras.layers.Conv2D(5,3,activation='relu'),\n",
        "                    tf.keras.layers.MaxPool2D((2,2)),\n",
        "                    tf.keras.layers.Flatten(),\n",
        "                    tf.keras.layers.Dense(64,activation='relu'),\n",
        "                    tf.keras.layers.Dense(10,activation='softmax')])\n",
        "model1.compile(optimizer='adam',loss='categorical_crossentropy',metrics=['accuracy'])"
      ],
      "execution_count": 0,
      "outputs": []
    },
    {
      "cell_type": "code",
      "metadata": {
        "id": "gL5DDYn9N0kR",
        "colab_type": "code",
        "colab": {}
      },
      "source": [
        "train_x=tf.reshape(train_x, (train_x.shape[0],train_x.shape[1],train_x.shape[2], 1))\n",
        "test_x=tf.reshape(test_x, (test_x.shape[0],test_x.shape[1],test_x.shape[2], 1))"
      ],
      "execution_count": 0,
      "outputs": []
    },
    {
      "cell_type": "code",
      "metadata": {
        "id": "7AKY44s6Ozms",
        "colab_type": "code",
        "colab": {
          "base_uri": "https://localhost:8080/",
          "height": 35
        },
        "outputId": "9e2267f5-07f3-4f08-aea4-46a0f05c5bd6"
      },
      "source": [
        "test_x.shape"
      ],
      "execution_count": 49,
      "outputs": [
        {
          "output_type": "execute_result",
          "data": {
            "text/plain": [
              "TensorShape([10000, 28, 28, 1])"
            ]
          },
          "metadata": {
            "tags": []
          },
          "execution_count": 49
        }
      ]
    },
    {
      "cell_type": "code",
      "metadata": {
        "id": "VpYepETiO5Hy",
        "colab_type": "code",
        "colab": {}
      },
      "source": [
        "model1.build(input_shape=train_x.shape)"
      ],
      "execution_count": 0,
      "outputs": []
    },
    {
      "cell_type": "code",
      "metadata": {
        "id": "p2H-TBYRPILt",
        "colab_type": "code",
        "colab": {
          "base_uri": "https://localhost:8080/",
          "height": 485
        },
        "outputId": "44388675-90a3-47fb-c333-28e0cbc0b7ce"
      },
      "source": [
        "model1.summary()"
      ],
      "execution_count": 51,
      "outputs": [
        {
          "output_type": "stream",
          "text": [
            "Model: \"sequential_5\"\n",
            "_________________________________________________________________\n",
            "Layer (type)                 Output Shape              Param #   \n",
            "=================================================================\n",
            "conv2d_8 (Conv2D)            multiple                  50        \n",
            "_________________________________________________________________\n",
            "batch_normalization_4 (Batch multiple                  20        \n",
            "_________________________________________________________________\n",
            "activation_4 (Activation)    multiple                  0         \n",
            "_________________________________________________________________\n",
            "max_pooling2d_8 (MaxPooling2 multiple                  0         \n",
            "_________________________________________________________________\n",
            "conv2d_9 (Conv2D)            multiple                  230       \n",
            "_________________________________________________________________\n",
            "max_pooling2d_9 (MaxPooling2 multiple                  0         \n",
            "_________________________________________________________________\n",
            "flatten_5 (Flatten)          multiple                  0         \n",
            "_________________________________________________________________\n",
            "dense_9 (Dense)              multiple                  8064      \n",
            "_________________________________________________________________\n",
            "dense_10 (Dense)             multiple                  650       \n",
            "=================================================================\n",
            "Total params: 9,014\n",
            "Trainable params: 9,004\n",
            "Non-trainable params: 10\n",
            "_________________________________________________________________\n"
          ],
          "name": "stdout"
        }
      ]
    },
    {
      "cell_type": "code",
      "metadata": {
        "id": "T86xlKuPSsD0",
        "colab_type": "code",
        "colab": {
          "base_uri": "https://localhost:8080/",
          "height": 35
        },
        "outputId": "d3f2d620-0258-458d-a82b-253934def4a5"
      },
      "source": [
        "train_y.shape"
      ],
      "execution_count": 52,
      "outputs": [
        {
          "output_type": "execute_result",
          "data": {
            "text/plain": [
              "TensorShape([60000, 10])"
            ]
          },
          "metadata": {
            "tags": []
          },
          "execution_count": 52
        }
      ]
    },
    {
      "cell_type": "code",
      "metadata": {
        "id": "RVGWQNirPJrn",
        "colab_type": "code",
        "colab": {
          "base_uri": "https://localhost:8080/",
          "height": 125
        },
        "outputId": "c23dff6b-a446-40d5-90bc-58bb17537292"
      },
      "source": [
        "histoy=model1.fit(train_x,train_y,epochs=3,batch_size=64,validation_data=(test_x,test_y),shuffle=True,validation_freq=5)"
      ],
      "execution_count": 54,
      "outputs": [
        {
          "output_type": "stream",
          "text": [
            "Epoch 1/3\n",
            "938/938 [==============================] - 29s 31ms/step - loss: 0.0104 - accuracy: 0.9965\n",
            "Epoch 2/3\n",
            "938/938 [==============================] - 29s 31ms/step - loss: 0.0111 - accuracy: 0.9961\n",
            "Epoch 3/3\n",
            "938/938 [==============================] - 29s 31ms/step - loss: 0.0094 - accuracy: 0.9967\n"
          ],
          "name": "stdout"
        }
      ]
    },
    {
      "cell_type": "code",
      "metadata": {
        "id": "b-CyF5btPcy4",
        "colab_type": "code",
        "colab": {}
      },
      "source": [
        ""
      ],
      "execution_count": 0,
      "outputs": []
    },
    {
      "cell_type": "markdown",
      "metadata": {
        "id": "1h7wQ2c4YAsE",
        "colab_type": "text"
      },
      "source": [
        "# 模型可视化操作"
      ]
    },
    {
      "cell_type": "code",
      "metadata": {
        "id": "vV_zUrzDYEYf",
        "colab_type": "code",
        "colab": {}
      },
      "source": [
        "from tensorflow.keras.utils import plot_model\n",
        "from IPython.display import Image"
      ],
      "execution_count": 0,
      "outputs": []
    },
    {
      "cell_type": "code",
      "metadata": {
        "id": "wkrDWw0NY57x",
        "colab_type": "code",
        "colab": {
          "base_uri": "https://localhost:8080/",
          "height": 77
        },
        "outputId": "23125d3e-9805-4c2b-8f91-0fb957e856c7"
      },
      "source": [
        "plot_model(model1,to_file='cnn.png',show_shapes=True)\n",
        "Image('cnn.png')"
      ],
      "execution_count": 56,
      "outputs": [
        {
          "output_type": "execute_result",
          "data": {
            "image/png": "[encoded data removed]",
            "text/plain": [
              "<IPython.core.display.Image object>"
            ]
          },
          "metadata": {
            "tags": []
          },
          "execution_count": 56
        }
      ]
    },
    {
      "cell_type": "code",
      "metadata": {
        "id": "Q9RMHOVtZlbi",
        "colab_type": "code",
        "colab": {
          "base_uri": "https://localhost:8080/",
          "height": 53
        },
        "outputId": "aa2f23b3-aee4-409e-9d85-bd385ee2c4ca"
      },
      "source": [
        "#查看history\n",
        "histoy.history"
      ],
      "execution_count": 58,
      "outputs": [
        {
          "output_type": "execute_result",
          "data": {
            "text/plain": [
              "{'accuracy': [0.996483325958252, 0.9961166381835938, 0.9967333078384399],\n",
              " 'loss': [0.010363968089222908, 0.011088165454566479, 0.009405815042555332]}"
            ]
          },
          "metadata": {
            "tags": []
          },
          "execution_count": 58
        }
      ]
    }
  ]
}