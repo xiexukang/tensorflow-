{
  "nbformat": 4,
  "nbformat_minor": 0,
  "metadata": {
    "colab": {
      "name": "studycsv.ipynb",
      "provenance": [],
      "collapsed_sections": [],
      "authorship_tag": "ABX9TyPdqkQW9nN8GLiDAbuZ1JLA",
      "include_colab_link": true
    },
    "kernelspec": {
      "name": "python3",
      "display_name": "Python 3"
    }
  },
  "cells": [
    {
      "cell_type": "markdown",
      "metadata": {
        "id": "view-in-github",
        "colab_type": "text"
      },
      "source": [
        "<a href=\"https://colab.research.google.com/github/xiexukang/tensorflow-/blob/master/studycsv.ipynb\" target=\"_parent\"><img src=\"https://colab.research.google.com/assets/colab-badge.svg\" alt=\"Open In Colab\"/></a>"
      ]
    },
    {
      "cell_type": "code",
      "metadata": {
        "id": "zr9em_ByoT3L",
        "colab_type": "code",
        "colab": {}
      },
      "source": [
        "from __future__ import absolute_import, division, print_function, unicode_literals\n",
        "import functools\n",
        "\n",
        "import numpy as np\n",
        "import tensorflow as tf\n",
        "import tensorflow_datasets as tfds"
      ],
      "execution_count": 0,
      "outputs": []
    },
    {
      "cell_type": "code",
      "metadata": {
        "id": "GcA6jiSwoWOS",
        "colab_type": "code",
        "colab": {
          "base_uri": "https://localhost:8080/",
          "height": 53
        },
        "outputId": "0940e4a8-e490-4c82-fb2e-271e45357dcc"
      },
      "source": [
        "DATA_URL = 'https://storage.googleapis.com/tensorflow/tf-keras-datasets/mnist.npz'\n",
        "\n",
        "path = tf.keras.utils.get_file('mnist.npz', DATA_URL)\n",
        "with np.load(path) as data:\n",
        "  train_examples = data['x_train']\n",
        "  train_labels = data['y_train']\n",
        "  test_examples = data['x_test']\n",
        "  test_labels = data['y_test']"
      ],
      "execution_count": 11,
      "outputs": [
        {
          "output_type": "stream",
          "text": [
            "Downloading data from https://storage.googleapis.com/tensorflow/tf-keras-datasets/mnist.npz\n",
            "11493376/11490434 [==============================] - 0s 0us/step\n"
          ],
          "name": "stdout"
        }
      ]
    },
    {
      "cell_type": "code",
      "metadata": {
        "id": "X2lti94bqdSF",
        "colab_type": "code",
        "colab": {}
      },
      "source": [
        "train_dataset = tf.data.Dataset.from_tensor_slices((train_examples, train_labels))\n",
        "test_dataset = tf.data.Dataset.from_tensor_slices((test_examples, test_labels))"
      ],
      "execution_count": 0,
      "outputs": []
    },
    {
      "cell_type": "code",
      "metadata": {
        "id": "wnjOWt6sqlv7",
        "colab_type": "code",
        "colab": {}
      },
      "source": [
        "BATCH_SIZE = 64\n",
        "SHUFFLE_BUFFER_SIZE = 100\n",
        "\n",
        "train_dataset = train_dataset.shuffle(SHUFFLE_BUFFER_SIZE).batch(BATCH_SIZE)\n",
        "test_dataset = test_dataset.batch(BATCH_SIZE)"
      ],
      "execution_count": 0,
      "outputs": []
    },
    {
      "cell_type": "code",
      "metadata": {
        "id": "AJDfR5J3qqB5",
        "colab_type": "code",
        "colab": {}
      },
      "source": [
        "model = tf.keras.Sequential([\n",
        "    tf.keras.layers.Flatten(input_shape=(28, 28)),\n",
        "    tf.keras.layers.Dense(128, activation='relu'),\n",
        "    tf.keras.layers.Dense(128, activation='relu'),\n",
        "    tf.keras.layers.Dense(10, activation='softmax')\n",
        "])\n",
        "\n",
        "model.compile(optimizer=tf.keras.optimizers.RMSprop(),\n",
        "                loss=tf.keras.losses.SparseCategoricalCrossentropy(),\n",
        "                metrics=[tf.keras.metrics.SparseCategoricalAccuracy()])"
      ],
      "execution_count": 0,
      "outputs": []
    },
    {
      "cell_type": "code",
      "metadata": {
        "id": "NT3hLZioq1vU",
        "colab_type": "code",
        "colab": {
          "base_uri": "https://localhost:8080/",
          "height": 395
        },
        "outputId": "6190e1f5-4115-4806-9de6-83f23c92f28d"
      },
      "source": [
        "model.fit(train_dataset, epochs=10)"
      ],
      "execution_count": 15,
      "outputs": [
        {
          "output_type": "stream",
          "text": [
            "Epoch 1/10\n",
            "938/938 [==============================] - 3s 3ms/step - loss: 2.4318 - sparse_categorical_accuracy: 0.8766\n",
            "Epoch 2/10\n",
            "938/938 [==============================] - 3s 3ms/step - loss: 0.5158 - sparse_categorical_accuracy: 0.9336\n",
            "Epoch 3/10\n",
            "938/938 [==============================] - 3s 3ms/step - loss: 0.3251 - sparse_categorical_accuracy: 0.9486\n",
            "Epoch 4/10\n",
            "938/938 [==============================] - 3s 3ms/step - loss: 0.2483 - sparse_categorical_accuracy: 0.9579\n",
            "Epoch 5/10\n",
            "938/938 [==============================] - 3s 3ms/step - loss: 0.2012 - sparse_categorical_accuracy: 0.9629\n",
            "Epoch 6/10\n",
            "938/938 [==============================] - 3s 3ms/step - loss: 0.1675 - sparse_categorical_accuracy: 0.9666\n",
            "Epoch 7/10\n",
            "938/938 [==============================] - 3s 4ms/step - loss: 0.1632 - sparse_categorical_accuracy: 0.9697\n",
            "Epoch 8/10\n",
            "938/938 [==============================] - 3s 3ms/step - loss: 0.1540 - sparse_categorical_accuracy: 0.9716\n",
            "Epoch 9/10\n",
            "938/938 [==============================] - 3s 3ms/step - loss: 0.1515 - sparse_categorical_accuracy: 0.9730\n",
            "Epoch 10/10\n",
            "938/938 [==============================] - 3s 3ms/step - loss: 0.1360 - sparse_categorical_accuracy: 0.9756\n"
          ],
          "name": "stdout"
        },
        {
          "output_type": "execute_result",
          "data": {
            "text/plain": [
              "<tensorflow.python.keras.callbacks.History at 0x7f3afe9ec240>"
            ]
          },
          "metadata": {
            "tags": []
          },
          "execution_count": 15
        }
      ]
    },
    {
      "cell_type": "code",
      "metadata": {
        "id": "ejPPeug1q53P",
        "colab_type": "code",
        "colab": {
          "base_uri": "https://localhost:8080/",
          "height": 305
        },
        "outputId": "f1c71a63-e402-4bac-a8d3-2277f080741a"
      },
      "source": [
        "model.summary()"
      ],
      "execution_count": 17,
      "outputs": [
        {
          "output_type": "stream",
          "text": [
            "Model: \"sequential\"\n",
            "_________________________________________________________________\n",
            "Layer (type)                 Output Shape              Param #   \n",
            "=================================================================\n",
            "flatten (Flatten)            (None, 784)               0         \n",
            "_________________________________________________________________\n",
            "dense (Dense)                (None, 128)               100480    \n",
            "_________________________________________________________________\n",
            "dense_1 (Dense)              (None, 128)               16512     \n",
            "_________________________________________________________________\n",
            "dense_2 (Dense)              (None, 10)                1290      \n",
            "=================================================================\n",
            "Total params: 118,282\n",
            "Trainable params: 118,282\n",
            "Non-trainable params: 0\n",
            "_________________________________________________________________\n"
          ],
          "name": "stdout"
        }
      ]
    },
    {
      "cell_type": "code",
      "metadata": {
        "id": "1TJ6KsJlrD8f",
        "colab_type": "code",
        "colab": {
          "base_uri": "https://localhost:8080/",
          "height": 53
        },
        "outputId": "a11f9144-0f48-4a0b-e4be-350ec1e2660a"
      },
      "source": [
        "model.evaluate(test_dataset)"
      ],
      "execution_count": 18,
      "outputs": [
        {
          "output_type": "stream",
          "text": [
            "157/157 [==============================] - 0s 2ms/step - loss: 0.4245 - sparse_categorical_accuracy: 0.9614\n"
          ],
          "name": "stdout"
        },
        {
          "output_type": "execute_result",
          "data": {
            "text/plain": [
              "[0.4245269298553467, 0.9613999724388123]"
            ]
          },
          "metadata": {
            "tags": []
          },
          "execution_count": 18
        }
      ]
    },
    {
      "cell_type": "code",
      "metadata": {
        "id": "EpbK1dhgrWNd",
        "colab_type": "code",
        "colab": {
          "base_uri": "https://localhost:8080/",
          "height": 35
        },
        "outputId": "a7f24dca-70ee-4254-ca06-1d905420654b"
      },
      "source": [
        "test_dataset"
      ],
      "execution_count": 24,
      "outputs": [
        {
          "output_type": "execute_result",
          "data": {
            "text/plain": [
              "<BatchDataset shapes: ((None, 28, 28), (None,)), types: (tf.uint8, tf.uint8)>"
            ]
          },
          "metadata": {
            "tags": []
          },
          "execution_count": 24
        }
      ]
    },
    {
      "cell_type": "code",
      "metadata": {
        "id": "DQrGg36erzD5",
        "colab_type": "code",
        "colab": {
          "base_uri": "https://localhost:8080/",
          "height": 71
        },
        "outputId": "060b6916-8d8d-460e-b9ca-ba882352837e"
      },
      "source": [
        "from __future__ import absolute_import, division, print_function, unicode_literals\n",
        "\n",
        "!pip install -q tensorflow-gpu==2.0.0-rc1\n",
        "import pandas as pd\n",
        "import tensorflow as tf"
      ],
      "execution_count": 26,
      "outputs": [
        {
          "output_type": "stream",
          "text": [
            "\u001b[K     |████████████████████████████████| 380.5MB 42kB/s \n",
            "\u001b[K     |████████████████████████████████| 501kB 49.5MB/s \n",
            "\u001b[K     |████████████████████████████████| 4.3MB 48.6MB/s \n",
            "\u001b[?25h"
          ],
          "name": "stdout"
        }
      ]
    },
    {
      "cell_type": "code",
      "metadata": {
        "id": "VXxhK_BRr1gt",
        "colab_type": "code",
        "colab": {
          "base_uri": "https://localhost:8080/",
          "height": 53
        },
        "outputId": "621ce319-f191-4db3-d83f-a81d3c97ceea"
      },
      "source": [
        "csv_file = tf.keras.utils.get_file('heart.csv', 'https://storage.googleapis.com/applied-dl/heart.csv')"
      ],
      "execution_count": 27,
      "outputs": [
        {
          "output_type": "stream",
          "text": [
            "Downloading data from https://storage.googleapis.com/applied-dl/heart.csv\n",
            "16384/13273 [=====================================] - 0s 0us/step\n"
          ],
          "name": "stdout"
        }
      ]
    },
    {
      "cell_type": "code",
      "metadata": {
        "id": "wNoUgTQRsMfw",
        "colab_type": "code",
        "colab": {}
      },
      "source": [
        "df = pd.read_csv(csv_file)"
      ],
      "execution_count": 0,
      "outputs": []
    },
    {
      "cell_type": "code",
      "metadata": {
        "id": "zYFK_6QdsOpH",
        "colab_type": "code",
        "colab": {
          "base_uri": "https://localhost:8080/",
          "height": 202
        },
        "outputId": "7b37af06-6ed0-44fc-9dc0-6a6ca8b9de43"
      },
      "source": [
        "df.head()"
      ],
      "execution_count": 29,
      "outputs": [
        {
          "output_type": "execute_result",
          "data": {
            "text/html": [
              "<div>\n",
              "<style scoped>\n",
              "    .dataframe tbody tr th:only-of-type {\n",
              "        vertical-align: middle;\n",
              "    }\n",
              "\n",
              "    .dataframe tbody tr th {\n",
              "        vertical-align: top;\n",
              "    }\n",
              "\n",
              "    .dataframe thead th {\n",
              "        text-align: right;\n",
              "    }\n",
              "</style>\n",
              "<table border=\"1\" class=\"dataframe\">\n",
              "  <thead>\n",
              "    <tr style=\"text-align: right;\">\n",
              "      <th></th>\n",
              "      <th>age</th>\n",
              "      <th>sex</th>\n",
              "      <th>cp</th>\n",
              "      <th>trestbps</th>\n",
              "      <th>chol</th>\n",
              "      <th>fbs</th>\n",
              "      <th>restecg</th>\n",
              "      <th>thalach</th>\n",
              "      <th>exang</th>\n",
              "      <th>oldpeak</th>\n",
              "      <th>slope</th>\n",
              "      <th>ca</th>\n",
              "      <th>thal</th>\n",
              "      <th>target</th>\n",
              "    </tr>\n",
              "  </thead>\n",
              "  <tbody>\n",
              "    <tr>\n",
              "      <th>0</th>\n",
              "      <td>63</td>\n",
              "      <td>1</td>\n",
              "      <td>1</td>\n",
              "      <td>145</td>\n",
              "      <td>233</td>\n",
              "      <td>1</td>\n",
              "      <td>2</td>\n",
              "      <td>150</td>\n",
              "      <td>0</td>\n",
              "      <td>2.3</td>\n",
              "      <td>3</td>\n",
              "      <td>0</td>\n",
              "      <td>fixed</td>\n",
              "      <td>0</td>\n",
              "    </tr>\n",
              "    <tr>\n",
              "      <th>1</th>\n",
              "      <td>67</td>\n",
              "      <td>1</td>\n",
              "      <td>4</td>\n",
              "      <td>160</td>\n",
              "      <td>286</td>\n",
              "      <td>0</td>\n",
              "      <td>2</td>\n",
              "      <td>108</td>\n",
              "      <td>1</td>\n",
              "      <td>1.5</td>\n",
              "      <td>2</td>\n",
              "      <td>3</td>\n",
              "      <td>normal</td>\n",
              "      <td>1</td>\n",
              "    </tr>\n",
              "    <tr>\n",
              "      <th>2</th>\n",
              "      <td>67</td>\n",
              "      <td>1</td>\n",
              "      <td>4</td>\n",
              "      <td>120</td>\n",
              "      <td>229</td>\n",
              "      <td>0</td>\n",
              "      <td>2</td>\n",
              "      <td>129</td>\n",
              "      <td>1</td>\n",
              "      <td>2.6</td>\n",
              "      <td>2</td>\n",
              "      <td>2</td>\n",
              "      <td>reversible</td>\n",
              "      <td>0</td>\n",
              "    </tr>\n",
              "    <tr>\n",
              "      <th>3</th>\n",
              "      <td>37</td>\n",
              "      <td>1</td>\n",
              "      <td>3</td>\n",
              "      <td>130</td>\n",
              "      <td>250</td>\n",
              "      <td>0</td>\n",
              "      <td>0</td>\n",
              "      <td>187</td>\n",
              "      <td>0</td>\n",
              "      <td>3.5</td>\n",
              "      <td>3</td>\n",
              "      <td>0</td>\n",
              "      <td>normal</td>\n",
              "      <td>0</td>\n",
              "    </tr>\n",
              "    <tr>\n",
              "      <th>4</th>\n",
              "      <td>41</td>\n",
              "      <td>0</td>\n",
              "      <td>2</td>\n",
              "      <td>130</td>\n",
              "      <td>204</td>\n",
              "      <td>0</td>\n",
              "      <td>2</td>\n",
              "      <td>172</td>\n",
              "      <td>0</td>\n",
              "      <td>1.4</td>\n",
              "      <td>1</td>\n",
              "      <td>0</td>\n",
              "      <td>normal</td>\n",
              "      <td>0</td>\n",
              "    </tr>\n",
              "  </tbody>\n",
              "</table>\n",
              "</div>"
            ],
            "text/plain": [
              "   age  sex  cp  trestbps  chol  ...  oldpeak  slope  ca        thal  target\n",
              "0   63    1   1       145   233  ...      2.3      3   0       fixed       0\n",
              "1   67    1   4       160   286  ...      1.5      2   3      normal       1\n",
              "2   67    1   4       120   229  ...      2.6      2   2  reversible       0\n",
              "3   37    1   3       130   250  ...      3.5      3   0      normal       0\n",
              "4   41    0   2       130   204  ...      1.4      1   0      normal       0\n",
              "\n",
              "[5 rows x 14 columns]"
            ]
          },
          "metadata": {
            "tags": []
          },
          "execution_count": 29
        }
      ]
    },
    {
      "cell_type": "code",
      "metadata": {
        "id": "D4BS3L3AsQSp",
        "colab_type": "code",
        "colab": {
          "base_uri": "https://localhost:8080/",
          "height": 287
        },
        "outputId": "6cd7aa03-b876-4560-859c-19cd4bbe00ee"
      },
      "source": [
        "df.dtypes"
      ],
      "execution_count": 30,
      "outputs": [
        {
          "output_type": "execute_result",
          "data": {
            "text/plain": [
              "age           int64\n",
              "sex           int64\n",
              "cp            int64\n",
              "trestbps      int64\n",
              "chol          int64\n",
              "fbs           int64\n",
              "restecg       int64\n",
              "thalach       int64\n",
              "exang         int64\n",
              "oldpeak     float64\n",
              "slope         int64\n",
              "ca            int64\n",
              "thal         object\n",
              "target        int64\n",
              "dtype: object"
            ]
          },
          "metadata": {
            "tags": []
          },
          "execution_count": 30
        }
      ]
    },
    {
      "cell_type": "code",
      "metadata": {
        "id": "tqWUqC0UsSeZ",
        "colab_type": "code",
        "colab": {}
      },
      "source": [
        "df['thal'] = pd.Categorical(df['thal'])\n",
        "df['thal'] = df.thal.cat.codes"
      ],
      "execution_count": 0,
      "outputs": []
    },
    {
      "cell_type": "code",
      "metadata": {
        "id": "C69aUbnVsWJh",
        "colab_type": "code",
        "colab": {
          "base_uri": "https://localhost:8080/",
          "height": 202
        },
        "outputId": "d8856b99-db08-46a8-e78a-adb8bbbc8022"
      },
      "source": [
        "df.head()"
      ],
      "execution_count": 32,
      "outputs": [
        {
          "output_type": "execute_result",
          "data": {
            "text/html": [
              "<div>\n",
              "<style scoped>\n",
              "    .dataframe tbody tr th:only-of-type {\n",
              "        vertical-align: middle;\n",
              "    }\n",
              "\n",
              "    .dataframe tbody tr th {\n",
              "        vertical-align: top;\n",
              "    }\n",
              "\n",
              "    .dataframe thead th {\n",
              "        text-align: right;\n",
              "    }\n",
              "</style>\n",
              "<table border=\"1\" class=\"dataframe\">\n",
              "  <thead>\n",
              "    <tr style=\"text-align: right;\">\n",
              "      <th></th>\n",
              "      <th>age</th>\n",
              "      <th>sex</th>\n",
              "      <th>cp</th>\n",
              "      <th>trestbps</th>\n",
              "      <th>chol</th>\n",
              "      <th>fbs</th>\n",
              "      <th>restecg</th>\n",
              "      <th>thalach</th>\n",
              "      <th>exang</th>\n",
              "      <th>oldpeak</th>\n",
              "      <th>slope</th>\n",
              "      <th>ca</th>\n",
              "      <th>thal</th>\n",
              "      <th>target</th>\n",
              "    </tr>\n",
              "  </thead>\n",
              "  <tbody>\n",
              "    <tr>\n",
              "      <th>0</th>\n",
              "      <td>63</td>\n",
              "      <td>1</td>\n",
              "      <td>1</td>\n",
              "      <td>145</td>\n",
              "      <td>233</td>\n",
              "      <td>1</td>\n",
              "      <td>2</td>\n",
              "      <td>150</td>\n",
              "      <td>0</td>\n",
              "      <td>2.3</td>\n",
              "      <td>3</td>\n",
              "      <td>0</td>\n",
              "      <td>2</td>\n",
              "      <td>0</td>\n",
              "    </tr>\n",
              "    <tr>\n",
              "      <th>1</th>\n",
              "      <td>67</td>\n",
              "      <td>1</td>\n",
              "      <td>4</td>\n",
              "      <td>160</td>\n",
              "      <td>286</td>\n",
              "      <td>0</td>\n",
              "      <td>2</td>\n",
              "      <td>108</td>\n",
              "      <td>1</td>\n",
              "      <td>1.5</td>\n",
              "      <td>2</td>\n",
              "      <td>3</td>\n",
              "      <td>3</td>\n",
              "      <td>1</td>\n",
              "    </tr>\n",
              "    <tr>\n",
              "      <th>2</th>\n",
              "      <td>67</td>\n",
              "      <td>1</td>\n",
              "      <td>4</td>\n",
              "      <td>120</td>\n",
              "      <td>229</td>\n",
              "      <td>0</td>\n",
              "      <td>2</td>\n",
              "      <td>129</td>\n",
              "      <td>1</td>\n",
              "      <td>2.6</td>\n",
              "      <td>2</td>\n",
              "      <td>2</td>\n",
              "      <td>4</td>\n",
              "      <td>0</td>\n",
              "    </tr>\n",
              "    <tr>\n",
              "      <th>3</th>\n",
              "      <td>37</td>\n",
              "      <td>1</td>\n",
              "      <td>3</td>\n",
              "      <td>130</td>\n",
              "      <td>250</td>\n",
              "      <td>0</td>\n",
              "      <td>0</td>\n",
              "      <td>187</td>\n",
              "      <td>0</td>\n",
              "      <td>3.5</td>\n",
              "      <td>3</td>\n",
              "      <td>0</td>\n",
              "      <td>3</td>\n",
              "      <td>0</td>\n",
              "    </tr>\n",
              "    <tr>\n",
              "      <th>4</th>\n",
              "      <td>41</td>\n",
              "      <td>0</td>\n",
              "      <td>2</td>\n",
              "      <td>130</td>\n",
              "      <td>204</td>\n",
              "      <td>0</td>\n",
              "      <td>2</td>\n",
              "      <td>172</td>\n",
              "      <td>0</td>\n",
              "      <td>1.4</td>\n",
              "      <td>1</td>\n",
              "      <td>0</td>\n",
              "      <td>3</td>\n",
              "      <td>0</td>\n",
              "    </tr>\n",
              "  </tbody>\n",
              "</table>\n",
              "</div>"
            ],
            "text/plain": [
              "   age  sex  cp  trestbps  chol  fbs  ...  exang  oldpeak  slope  ca  thal  target\n",
              "0   63    1   1       145   233    1  ...      0      2.3      3   0     2       0\n",
              "1   67    1   4       160   286    0  ...      1      1.5      2   3     3       1\n",
              "2   67    1   4       120   229    0  ...      1      2.6      2   2     4       0\n",
              "3   37    1   3       130   250    0  ...      0      3.5      3   0     3       0\n",
              "4   41    0   2       130   204    0  ...      0      1.4      1   0     3       0\n",
              "\n",
              "[5 rows x 14 columns]"
            ]
          },
          "metadata": {
            "tags": []
          },
          "execution_count": 32
        }
      ]
    },
    {
      "cell_type": "code",
      "metadata": {
        "id": "F764Td1msdXj",
        "colab_type": "code",
        "colab": {}
      },
      "source": [
        "target = df.pop('target')"
      ],
      "execution_count": 0,
      "outputs": []
    },
    {
      "cell_type": "code",
      "metadata": {
        "id": "DmVxxdr2sk8p",
        "colab_type": "code",
        "colab": {
          "base_uri": "https://localhost:8080/",
          "height": 197
        },
        "outputId": "7bc437ac-18f9-4f0e-ab6f-7772918ca015"
      },
      "source": [
        "dataset = tf.data.Dataset.from_tensor_slices((df.values, target.values))\n",
        "for feat, targ in dataset.take(5):\n",
        "  print ('Features: {}, Target: {}'.format(feat, targ))"
      ],
      "execution_count": 35,
      "outputs": [
        {
          "output_type": "stream",
          "text": [
            "Features: [ 63.    1.    1.  145.  233.    1.    2.  150.    0.    2.3   3.    0.\n",
            "   2. ], Target: 0\n",
            "Features: [ 67.    1.    4.  160.  286.    0.    2.  108.    1.    1.5   2.    3.\n",
            "   3. ], Target: 1\n",
            "Features: [ 67.    1.    4.  120.  229.    0.    2.  129.    1.    2.6   2.    2.\n",
            "   4. ], Target: 0\n",
            "Features: [ 37.    1.    3.  130.  250.    0.    0.  187.    0.    3.5   3.    0.\n",
            "   3. ], Target: 0\n",
            "Features: [ 41.    0.    2.  130.  204.    0.    2.  172.    0.    1.4   1.    0.\n",
            "   3. ], Target: 0\n"
          ],
          "name": "stdout"
        }
      ]
    },
    {
      "cell_type": "code",
      "metadata": {
        "id": "aa9QPJplsmjY",
        "colab_type": "code",
        "colab": {
          "base_uri": "https://localhost:8080/",
          "height": 287
        },
        "outputId": "1af9ee45-426d-4aa7-e72a-e47a3a590f09"
      },
      "source": [
        "tf.constant(df['thal'])"
      ],
      "execution_count": 36,
      "outputs": [
        {
          "output_type": "execute_result",
          "data": {
            "text/plain": [
              "<tf.Tensor: shape=(303,), dtype=int8, numpy=\n",
              "array([2, 3, 4, 3, 3, 3, 3, 3, 4, 4, 2, 3, 2, 4, 4, 3, 4, 3, 3, 3, 3, 3,\n",
              "       3, 4, 4, 3, 3, 3, 3, 4, 3, 4, 3, 4, 3, 3, 4, 2, 4, 3, 4, 3, 4, 4,\n",
              "       2, 3, 3, 4, 3, 3, 4, 3, 3, 3, 4, 3, 3, 3, 3, 3, 3, 4, 4, 3, 3, 4,\n",
              "       4, 2, 3, 3, 4, 3, 4, 3, 3, 4, 4, 3, 3, 4, 4, 3, 3, 3, 3, 4, 4, 4,\n",
              "       3, 3, 4, 3, 4, 4, 3, 4, 3, 3, 3, 4, 3, 4, 4, 3, 3, 4, 4, 4, 4, 4,\n",
              "       3, 3, 3, 3, 4, 3, 4, 3, 4, 4, 3, 3, 2, 4, 4, 2, 3, 3, 4, 4, 3, 4,\n",
              "       3, 3, 4, 2, 4, 4, 3, 4, 3, 3, 3, 3, 3, 3, 3, 3, 3, 4, 4, 4, 4, 4,\n",
              "       4, 3, 3, 3, 4, 3, 4, 3, 4, 3, 3, 3, 3, 3, 3, 3, 4, 3, 3, 3, 3, 3,\n",
              "       3, 3, 3, 3, 3, 3, 3, 4, 4, 3, 3, 3, 3, 3, 3, 3, 3, 4, 3, 4, 3, 2,\n",
              "       4, 4, 3, 3, 3, 3, 3, 3, 4, 3, 3, 3, 3, 3, 2, 2, 4, 3, 4, 2, 4, 3,\n",
              "       3, 4, 3, 3, 3, 3, 4, 3, 4, 3, 4, 2, 2, 4, 3, 4, 3, 2, 4, 3, 3, 2,\n",
              "       4, 4, 4, 4, 3, 0, 3, 3, 3, 3, 1, 4, 3, 3, 3, 4, 3, 4, 3, 3, 3, 4,\n",
              "       3, 3, 4, 4, 4, 4, 3, 3, 4, 3, 4, 3, 4, 4, 3, 4, 4, 3, 4, 4, 3, 3,\n",
              "       3, 3, 3, 3, 4, 4, 4, 4, 4, 4, 4, 3, 2, 4, 4, 4, 4], dtype=int8)>"
            ]
          },
          "metadata": {
            "tags": []
          },
          "execution_count": 36
        }
      ]
    },
    {
      "cell_type": "code",
      "metadata": {
        "id": "BWaUdKhoss55",
        "colab_type": "code",
        "colab": {}
      },
      "source": [
        "train_dataset = dataset.shuffle(len(df)).batch(1)"
      ],
      "execution_count": 0,
      "outputs": []
    },
    {
      "cell_type": "code",
      "metadata": {
        "id": "m4wN93dusvIa",
        "colab_type": "code",
        "colab": {}
      },
      "source": [
        "def get_compiled_model():\n",
        "  model = tf.keras.Sequential([\n",
        "    tf.keras.layers.Dense(10, activation='relu'),\n",
        "    tf.keras.layers.Dense(10, activation='relu'),\n",
        "    tf.keras.layers.Dense(40, activation='relu'),\n",
        "    tf.keras.layers.Dense(10, activation='relu'),\n",
        "    tf.keras.layers.Dense(1, activation='sigmoid')\n",
        "  ])\n",
        "\n",
        "  model.compile(optimizer='adam',\n",
        "                loss='binary_crossentropy',\n",
        "                metrics=['accuracy'])\n",
        "  return model"
      ],
      "execution_count": 0,
      "outputs": []
    },
    {
      "cell_type": "code",
      "metadata": {
        "id": "IqC1uEQhs5z4",
        "colab_type": "code",
        "colab": {
          "base_uri": "https://localhost:8080/",
          "height": 1000
        },
        "outputId": "838b21c4-8a76-42c3-aec2-bd5c7d64ba97"
      },
      "source": [
        "model = get_compiled_model()\n",
        "model.fit(train_dataset, epochs=150)"
      ],
      "execution_count": 40,
      "outputs": [
        {
          "output_type": "stream",
          "text": [
            "Epoch 1/150\n",
            "WARNING:tensorflow:Layer dense_8 is casting an input tensor from dtype float64 to the layer's dtype of float32, which is new behavior in TensorFlow 2.  The layer has dtype float32 because it's dtype defaults to floatx.\n",
            "\n",
            "If you intended to run this layer in float32, you can safely ignore this warning. If in doubt, this warning is likely only an issue if you are porting a TensorFlow 1.X model to TensorFlow 2.\n",
            "\n",
            "To change all layers to have dtype float64 by default, call `tf.keras.backend.set_floatx('float64')`. To change just this layer, pass dtype='float64' to the layer constructor. If you are the author of this layer, you can disable autocasting by passing autocast=False to the base Layer constructor.\n",
            "\n",
            "303/303 [==============================] - 0s 1ms/step - loss: 0.9417 - accuracy: 0.6535\n",
            "Epoch 2/150\n",
            "303/303 [==============================] - 0s 1ms/step - loss: 0.6844 - accuracy: 0.6832\n",
            "Epoch 3/150\n",
            "303/303 [==============================] - 0s 1ms/step - loss: 0.6479 - accuracy: 0.6634\n",
            "Epoch 4/150\n",
            "303/303 [==============================] - 0s 1ms/step - loss: 0.6288 - accuracy: 0.6865\n",
            "Epoch 5/150\n",
            "303/303 [==============================] - 0s 1ms/step - loss: 0.5848 - accuracy: 0.7162\n",
            "Epoch 6/150\n",
            "303/303 [==============================] - 0s 1ms/step - loss: 0.5638 - accuracy: 0.7162\n",
            "Epoch 7/150\n",
            "303/303 [==============================] - 0s 1ms/step - loss: 0.5637 - accuracy: 0.7063\n",
            "Epoch 8/150\n",
            "303/303 [==============================] - 0s 1ms/step - loss: 0.5716 - accuracy: 0.7459\n",
            "Epoch 9/150\n",
            "303/303 [==============================] - 0s 1ms/step - loss: 0.5515 - accuracy: 0.7492\n",
            "Epoch 10/150\n",
            "303/303 [==============================] - 0s 1ms/step - loss: 0.5098 - accuracy: 0.7459\n",
            "Epoch 11/150\n",
            "303/303 [==============================] - 0s 1ms/step - loss: 0.4936 - accuracy: 0.7657\n",
            "Epoch 12/150\n",
            "303/303 [==============================] - 0s 1ms/step - loss: 0.5013 - accuracy: 0.7723\n",
            "Epoch 13/150\n",
            "303/303 [==============================] - 0s 1ms/step - loss: 0.4974 - accuracy: 0.7657\n",
            "Epoch 14/150\n",
            "303/303 [==============================] - 0s 1ms/step - loss: 0.4773 - accuracy: 0.7459\n",
            "Epoch 15/150\n",
            "303/303 [==============================] - 0s 1ms/step - loss: 0.4699 - accuracy: 0.7888\n",
            "Epoch 16/150\n",
            "303/303 [==============================] - 0s 1ms/step - loss: 0.4678 - accuracy: 0.7756\n",
            "Epoch 17/150\n",
            "303/303 [==============================] - 0s 1ms/step - loss: 0.4810 - accuracy: 0.7954\n",
            "Epoch 18/150\n",
            "303/303 [==============================] - 0s 1ms/step - loss: 0.4492 - accuracy: 0.7987\n",
            "Epoch 19/150\n",
            "303/303 [==============================] - 0s 1ms/step - loss: 0.4485 - accuracy: 0.7756\n",
            "Epoch 20/150\n",
            "303/303 [==============================] - 0s 1ms/step - loss: 0.4729 - accuracy: 0.7723\n",
            "Epoch 21/150\n",
            "303/303 [==============================] - 0s 1ms/step - loss: 0.4518 - accuracy: 0.7723\n",
            "Epoch 22/150\n",
            "303/303 [==============================] - 0s 1ms/step - loss: 0.4473 - accuracy: 0.7921\n",
            "Epoch 23/150\n",
            "303/303 [==============================] - 0s 1ms/step - loss: 0.4173 - accuracy: 0.7855\n",
            "Epoch 24/150\n",
            "303/303 [==============================] - 0s 1ms/step - loss: 0.4454 - accuracy: 0.7789\n",
            "Epoch 25/150\n",
            "303/303 [==============================] - 0s 1ms/step - loss: 0.4308 - accuracy: 0.7921\n",
            "Epoch 26/150\n",
            "303/303 [==============================] - 0s 1ms/step - loss: 0.4108 - accuracy: 0.7987\n",
            "Epoch 27/150\n",
            "303/303 [==============================] - 0s 1ms/step - loss: 0.4199 - accuracy: 0.8218\n",
            "Epoch 28/150\n",
            "303/303 [==============================] - 0s 1ms/step - loss: 0.4213 - accuracy: 0.8053\n",
            "Epoch 29/150\n",
            "303/303 [==============================] - 0s 1ms/step - loss: 0.4086 - accuracy: 0.8086\n",
            "Epoch 30/150\n",
            "303/303 [==============================] - 0s 1ms/step - loss: 0.3975 - accuracy: 0.8086\n",
            "Epoch 31/150\n",
            "303/303 [==============================] - 0s 1ms/step - loss: 0.3900 - accuracy: 0.8251\n",
            "Epoch 32/150\n",
            "303/303 [==============================] - 0s 1ms/step - loss: 0.3901 - accuracy: 0.8185\n",
            "Epoch 33/150\n",
            "303/303 [==============================] - 0s 1ms/step - loss: 0.3939 - accuracy: 0.8020\n",
            "Epoch 34/150\n",
            "303/303 [==============================] - 0s 1ms/step - loss: 0.3935 - accuracy: 0.8251\n",
            "Epoch 35/150\n",
            "303/303 [==============================] - 0s 1ms/step - loss: 0.3797 - accuracy: 0.8251\n",
            "Epoch 36/150\n",
            "303/303 [==============================] - 0s 1ms/step - loss: 0.3939 - accuracy: 0.8218\n",
            "Epoch 37/150\n",
            "303/303 [==============================] - 0s 1ms/step - loss: 0.3830 - accuracy: 0.8119\n",
            "Epoch 38/150\n",
            "303/303 [==============================] - 0s 1ms/step - loss: 0.3813 - accuracy: 0.8449\n",
            "Epoch 39/150\n",
            "303/303 [==============================] - 0s 1ms/step - loss: 0.3814 - accuracy: 0.8119\n",
            "Epoch 40/150\n",
            "303/303 [==============================] - 0s 1ms/step - loss: 0.3787 - accuracy: 0.8119\n",
            "Epoch 41/150\n",
            "303/303 [==============================] - 0s 1ms/step - loss: 0.3836 - accuracy: 0.8350\n",
            "Epoch 42/150\n",
            "303/303 [==============================] - 0s 1ms/step - loss: 0.3813 - accuracy: 0.8185\n",
            "Epoch 43/150\n",
            "303/303 [==============================] - 0s 1ms/step - loss: 0.3448 - accuracy: 0.8383\n",
            "Epoch 44/150\n",
            "303/303 [==============================] - 0s 1ms/step - loss: 0.3608 - accuracy: 0.8152\n",
            "Epoch 45/150\n",
            "303/303 [==============================] - 0s 1ms/step - loss: 0.3566 - accuracy: 0.8416\n",
            "Epoch 46/150\n",
            "303/303 [==============================] - 0s 1ms/step - loss: 0.3541 - accuracy: 0.8383\n",
            "Epoch 47/150\n",
            "303/303 [==============================] - 0s 1ms/step - loss: 0.3479 - accuracy: 0.8449\n",
            "Epoch 48/150\n",
            "303/303 [==============================] - 0s 1ms/step - loss: 0.3689 - accuracy: 0.8416\n",
            "Epoch 49/150\n",
            "303/303 [==============================] - 0s 1ms/step - loss: 0.3617 - accuracy: 0.8317\n",
            "Epoch 50/150\n",
            "303/303 [==============================] - 0s 1ms/step - loss: 0.3634 - accuracy: 0.8317\n",
            "Epoch 51/150\n",
            "303/303 [==============================] - 0s 1ms/step - loss: 0.3600 - accuracy: 0.8053\n",
            "Epoch 52/150\n",
            "303/303 [==============================] - 0s 1ms/step - loss: 0.3610 - accuracy: 0.8383\n",
            "Epoch 53/150\n",
            "303/303 [==============================] - 0s 1ms/step - loss: 0.3470 - accuracy: 0.8713\n",
            "Epoch 54/150\n",
            "303/303 [==============================] - 0s 1ms/step - loss: 0.3567 - accuracy: 0.8383\n",
            "Epoch 55/150\n",
            "303/303 [==============================] - 0s 1ms/step - loss: 0.3540 - accuracy: 0.8185\n",
            "Epoch 56/150\n",
            "303/303 [==============================] - 0s 1ms/step - loss: 0.3642 - accuracy: 0.8383\n",
            "Epoch 57/150\n",
            "303/303 [==============================] - 0s 1ms/step - loss: 0.3369 - accuracy: 0.8548\n",
            "Epoch 58/150\n",
            "303/303 [==============================] - 0s 1ms/step - loss: 0.3430 - accuracy: 0.8284\n",
            "Epoch 59/150\n",
            "303/303 [==============================] - 0s 1ms/step - loss: 0.3705 - accuracy: 0.8284\n",
            "Epoch 60/150\n",
            "303/303 [==============================] - 0s 1ms/step - loss: 0.3562 - accuracy: 0.8416\n",
            "Epoch 61/150\n",
            "303/303 [==============================] - 0s 1ms/step - loss: 0.3604 - accuracy: 0.8416\n",
            "Epoch 62/150\n",
            "303/303 [==============================] - 0s 1ms/step - loss: 0.3460 - accuracy: 0.8416\n",
            "Epoch 63/150\n",
            "303/303 [==============================] - 0s 1ms/step - loss: 0.3627 - accuracy: 0.8449\n",
            "Epoch 64/150\n",
            "303/303 [==============================] - 0s 1ms/step - loss: 0.3551 - accuracy: 0.8350\n",
            "Epoch 65/150\n",
            "303/303 [==============================] - 0s 1ms/step - loss: 0.3407 - accuracy: 0.8515\n",
            "Epoch 66/150\n",
            "303/303 [==============================] - 0s 1ms/step - loss: 0.3423 - accuracy: 0.8350\n",
            "Epoch 67/150\n",
            "303/303 [==============================] - 0s 1ms/step - loss: 0.3945 - accuracy: 0.8284\n",
            "Epoch 68/150\n",
            "303/303 [==============================] - 0s 1ms/step - loss: 0.3915 - accuracy: 0.7822\n",
            "Epoch 69/150\n",
            "303/303 [==============================] - 0s 1ms/step - loss: 0.3549 - accuracy: 0.8284\n",
            "Epoch 70/150\n",
            "303/303 [==============================] - 0s 1ms/step - loss: 0.3347 - accuracy: 0.8515\n",
            "Epoch 71/150\n",
            "303/303 [==============================] - 0s 1ms/step - loss: 0.3384 - accuracy: 0.8515\n",
            "Epoch 72/150\n",
            "303/303 [==============================] - 0s 1ms/step - loss: 0.3282 - accuracy: 0.8482\n",
            "Epoch 73/150\n",
            "303/303 [==============================] - 0s 1ms/step - loss: 0.3398 - accuracy: 0.8449\n",
            "Epoch 74/150\n",
            "303/303 [==============================] - 0s 1ms/step - loss: 0.3631 - accuracy: 0.8350\n",
            "Epoch 75/150\n",
            "303/303 [==============================] - 0s 1ms/step - loss: 0.3280 - accuracy: 0.8581\n",
            "Epoch 76/150\n",
            "303/303 [==============================] - 0s 1ms/step - loss: 0.3357 - accuracy: 0.8218\n",
            "Epoch 77/150\n",
            "303/303 [==============================] - 0s 1ms/step - loss: 0.3444 - accuracy: 0.8614\n",
            "Epoch 78/150\n",
            "303/303 [==============================] - 0s 1ms/step - loss: 0.3187 - accuracy: 0.8680\n",
            "Epoch 79/150\n",
            "303/303 [==============================] - 0s 1ms/step - loss: 0.3272 - accuracy: 0.8548\n",
            "Epoch 80/150\n",
            "303/303 [==============================] - 0s 1ms/step - loss: 0.3417 - accuracy: 0.8416\n",
            "Epoch 81/150\n",
            "303/303 [==============================] - 0s 1ms/step - loss: 0.3477 - accuracy: 0.8284\n",
            "Epoch 82/150\n",
            "303/303 [==============================] - 0s 1ms/step - loss: 0.3387 - accuracy: 0.8449\n",
            "Epoch 83/150\n",
            "303/303 [==============================] - 0s 1ms/step - loss: 0.3282 - accuracy: 0.8647\n",
            "Epoch 84/150\n",
            "303/303 [==============================] - 0s 1ms/step - loss: 0.3263 - accuracy: 0.8383\n",
            "Epoch 85/150\n",
            "303/303 [==============================] - 0s 1ms/step - loss: 0.3175 - accuracy: 0.8581\n",
            "Epoch 86/150\n",
            "303/303 [==============================] - 0s 1ms/step - loss: 0.3398 - accuracy: 0.8251\n",
            "Epoch 87/150\n",
            "303/303 [==============================] - 0s 1ms/step - loss: 0.3362 - accuracy: 0.8482\n",
            "Epoch 88/150\n",
            "303/303 [==============================] - 0s 1ms/step - loss: 0.3297 - accuracy: 0.8449\n",
            "Epoch 89/150\n",
            "303/303 [==============================] - 0s 1ms/step - loss: 0.3209 - accuracy: 0.8416\n",
            "Epoch 90/150\n",
            "303/303 [==============================] - 0s 1ms/step - loss: 0.3214 - accuracy: 0.8383\n",
            "Epoch 91/150\n",
            "303/303 [==============================] - 0s 1ms/step - loss: 0.3648 - accuracy: 0.8317\n",
            "Epoch 92/150\n",
            "303/303 [==============================] - 0s 1ms/step - loss: 0.3240 - accuracy: 0.8482\n",
            "Epoch 93/150\n",
            "303/303 [==============================] - 0s 1ms/step - loss: 0.3332 - accuracy: 0.8350\n",
            "Epoch 94/150\n",
            "303/303 [==============================] - 0s 1ms/step - loss: 0.3315 - accuracy: 0.8548\n",
            "Epoch 95/150\n",
            "303/303 [==============================] - 0s 1ms/step - loss: 0.3298 - accuracy: 0.8482\n",
            "Epoch 96/150\n",
            "303/303 [==============================] - 0s 1ms/step - loss: 0.3211 - accuracy: 0.8581\n",
            "Epoch 97/150\n",
            "303/303 [==============================] - 0s 1ms/step - loss: 0.3285 - accuracy: 0.8548\n",
            "Epoch 98/150\n",
            "303/303 [==============================] - 0s 1ms/step - loss: 0.3654 - accuracy: 0.8515\n",
            "Epoch 99/150\n",
            "303/303 [==============================] - 0s 1ms/step - loss: 0.3319 - accuracy: 0.8680\n",
            "Epoch 100/150\n",
            "303/303 [==============================] - 0s 1ms/step - loss: 0.3242 - accuracy: 0.8581\n",
            "Epoch 101/150\n",
            "303/303 [==============================] - 0s 1ms/step - loss: 0.3267 - accuracy: 0.8449\n",
            "Epoch 102/150\n",
            "303/303 [==============================] - 0s 1ms/step - loss: 0.3215 - accuracy: 0.8680\n",
            "Epoch 103/150\n",
            "303/303 [==============================] - 0s 1ms/step - loss: 0.3490 - accuracy: 0.8581\n",
            "Epoch 104/150\n",
            "303/303 [==============================] - 0s 1ms/step - loss: 0.3242 - accuracy: 0.8746\n",
            "Epoch 105/150\n",
            "303/303 [==============================] - 0s 1ms/step - loss: 0.3096 - accuracy: 0.8647\n",
            "Epoch 106/150\n",
            "303/303 [==============================] - 0s 1ms/step - loss: 0.3249 - accuracy: 0.8317\n",
            "Epoch 107/150\n",
            "303/303 [==============================] - 0s 1ms/step - loss: 0.3262 - accuracy: 0.8515\n",
            "Epoch 108/150\n",
            "303/303 [==============================] - 0s 1ms/step - loss: 0.3282 - accuracy: 0.8482\n",
            "Epoch 109/150\n",
            "303/303 [==============================] - 0s 1ms/step - loss: 0.3128 - accuracy: 0.8614\n",
            "Epoch 110/150\n",
            "303/303 [==============================] - 0s 1ms/step - loss: 0.3338 - accuracy: 0.8482\n",
            "Epoch 111/150\n",
            "303/303 [==============================] - 0s 1ms/step - loss: 0.3290 - accuracy: 0.8449\n",
            "Epoch 112/150\n",
            "303/303 [==============================] - 0s 1ms/step - loss: 0.3087 - accuracy: 0.8482\n",
            "Epoch 113/150\n",
            "303/303 [==============================] - 0s 1ms/step - loss: 0.3051 - accuracy: 0.8647\n",
            "Epoch 114/150\n",
            "303/303 [==============================] - 0s 1ms/step - loss: 0.3545 - accuracy: 0.8350\n",
            "Epoch 115/150\n",
            "303/303 [==============================] - 0s 1ms/step - loss: 0.3120 - accuracy: 0.8647\n",
            "Epoch 116/150\n",
            "303/303 [==============================] - 0s 1ms/step - loss: 0.3300 - accuracy: 0.8548\n",
            "Epoch 117/150\n",
            "303/303 [==============================] - 0s 1ms/step - loss: 0.3113 - accuracy: 0.8581\n",
            "Epoch 118/150\n",
            "303/303 [==============================] - 0s 1ms/step - loss: 0.3284 - accuracy: 0.8416\n",
            "Epoch 119/150\n",
            "303/303 [==============================] - 0s 1ms/step - loss: 0.3639 - accuracy: 0.8383\n",
            "Epoch 120/150\n",
            "303/303 [==============================] - 0s 1ms/step - loss: 0.3273 - accuracy: 0.8449\n",
            "Epoch 121/150\n",
            "303/303 [==============================] - 0s 1ms/step - loss: 0.3153 - accuracy: 0.8515\n",
            "Epoch 122/150\n",
            "303/303 [==============================] - 0s 1ms/step - loss: 0.3204 - accuracy: 0.8713\n",
            "Epoch 123/150\n",
            "303/303 [==============================] - 0s 1ms/step - loss: 0.3354 - accuracy: 0.8548\n",
            "Epoch 124/150\n",
            "303/303 [==============================] - 0s 1ms/step - loss: 0.3060 - accuracy: 0.8515\n",
            "Epoch 125/150\n",
            "303/303 [==============================] - 0s 1ms/step - loss: 0.3129 - accuracy: 0.8614\n",
            "Epoch 126/150\n",
            "303/303 [==============================] - 0s 1ms/step - loss: 0.3282 - accuracy: 0.8482\n",
            "Epoch 127/150\n",
            "303/303 [==============================] - 0s 1ms/step - loss: 0.3113 - accuracy: 0.8515\n",
            "Epoch 128/150\n",
            "303/303 [==============================] - 0s 1ms/step - loss: 0.3121 - accuracy: 0.8680\n",
            "Epoch 129/150\n",
            "303/303 [==============================] - 0s 1ms/step - loss: 0.3106 - accuracy: 0.8614\n",
            "Epoch 130/150\n",
            "303/303 [==============================] - 0s 1ms/step - loss: 0.3093 - accuracy: 0.8482\n",
            "Epoch 131/150\n",
            "303/303 [==============================] - 0s 1ms/step - loss: 0.3143 - accuracy: 0.8515\n",
            "Epoch 132/150\n",
            "303/303 [==============================] - 0s 1ms/step - loss: 0.3199 - accuracy: 0.8647\n",
            "Epoch 133/150\n",
            "303/303 [==============================] - 0s 1ms/step - loss: 0.3253 - accuracy: 0.8548\n",
            "Epoch 134/150\n",
            "303/303 [==============================] - 0s 1ms/step - loss: 0.2938 - accuracy: 0.8614\n",
            "Epoch 135/150\n",
            "303/303 [==============================] - 0s 1ms/step - loss: 0.3297 - accuracy: 0.8383\n",
            "Epoch 136/150\n",
            "303/303 [==============================] - 0s 1ms/step - loss: 0.3122 - accuracy: 0.8614\n",
            "Epoch 137/150\n",
            "303/303 [==============================] - 0s 1ms/step - loss: 0.3170 - accuracy: 0.8515\n",
            "Epoch 138/150\n",
            "303/303 [==============================] - 0s 1ms/step - loss: 0.2934 - accuracy: 0.8614\n",
            "Epoch 139/150\n",
            "303/303 [==============================] - 0s 1ms/step - loss: 0.3302 - accuracy: 0.8515\n",
            "Epoch 140/150\n",
            "303/303 [==============================] - 0s 1ms/step - loss: 0.3127 - accuracy: 0.8515\n",
            "Epoch 141/150\n",
            "303/303 [==============================] - 0s 1ms/step - loss: 0.3292 - accuracy: 0.8614\n",
            "Epoch 142/150\n",
            "303/303 [==============================] - 0s 1ms/step - loss: 0.3097 - accuracy: 0.8548\n",
            "Epoch 143/150\n",
            "303/303 [==============================] - 0s 1ms/step - loss: 0.3080 - accuracy: 0.8581\n",
            "Epoch 144/150\n",
            "303/303 [==============================] - 0s 1ms/step - loss: 0.3057 - accuracy: 0.8713\n",
            "Epoch 145/150\n",
            "303/303 [==============================] - 0s 1ms/step - loss: 0.3280 - accuracy: 0.8416\n",
            "Epoch 146/150\n",
            "303/303 [==============================] - 0s 1ms/step - loss: 0.3154 - accuracy: 0.8482\n",
            "Epoch 147/150\n",
            "303/303 [==============================] - 0s 1ms/step - loss: 0.3373 - accuracy: 0.8350\n",
            "Epoch 148/150\n",
            "303/303 [==============================] - 0s 1ms/step - loss: 0.3173 - accuracy: 0.8581\n",
            "Epoch 149/150\n",
            "303/303 [==============================] - 0s 1ms/step - loss: 0.3134 - accuracy: 0.8614\n",
            "Epoch 150/150\n",
            "303/303 [==============================] - 0s 1ms/step - loss: 0.3405 - accuracy: 0.8548\n"
          ],
          "name": "stdout"
        },
        {
          "output_type": "execute_result",
          "data": {
            "text/plain": [
              "<tensorflow.python.keras.callbacks.History at 0x7f3afbfbfac8>"
            ]
          },
          "metadata": {
            "tags": []
          },
          "execution_count": 40
        }
      ]
    },
    {
      "cell_type": "code",
      "metadata": {
        "id": "MIDiGtmKs8ks",
        "colab_type": "code",
        "colab": {}
      },
      "source": [
        "inputs = {key: tf.keras.layers.Input(shape=(), name=key) for key in df.keys()}\n",
        "x = tf.stack(list(inputs.values()), axis=-1)\n",
        "\n",
        "x = tf.keras.layers.Dense(10, activation='relu')(x)\n",
        "output = tf.keras.layers.Dense(1, activation='sigmoid')(x)\n",
        "\n",
        "model_func = tf.keras.Model(inputs=inputs, outputs=output)\n",
        "\n",
        "model_func.compile(optimizer='adam',\n",
        "                   loss='binary_crossentropy',\n",
        "                   metrics=['accuracy'])"
      ],
      "execution_count": 0,
      "outputs": []
    },
    {
      "cell_type": "code",
      "metadata": {
        "id": "8ozAo61VtbIJ",
        "colab_type": "code",
        "colab": {
          "base_uri": "https://localhost:8080/",
          "height": 235
        },
        "outputId": "05cc96aa-fb81-4026-9312-6f425da34d35"
      },
      "source": [
        "dict_slices = tf.data.Dataset.from_tensor_slices((df.to_dict('list'), target.values)).batch(16)\n",
        "for dict_slice in dict_slices.take(1):\n",
        "  print (dict_slice)"
      ],
      "execution_count": 42,
      "outputs": [
        {
          "output_type": "stream",
          "text": [
            "({'age': <tf.Tensor: shape=(16,), dtype=int32, numpy=\n",
            "array([63, 67, 67, 37, 41, 56, 62, 57, 63, 53, 57, 56, 56, 44, 52, 57],\n",
            "      dtype=int32)>, 'sex': <tf.Tensor: shape=(16,), dtype=int32, numpy=array([1, 1, 1, 1, 0, 1, 0, 0, 1, 1, 1, 0, 1, 1, 1, 1], dtype=int32)>, 'cp': <tf.Tensor: shape=(16,), dtype=int32, numpy=array([1, 4, 4, 3, 2, 2, 4, 4, 4, 4, 4, 2, 3, 2, 3, 3], dtype=int32)>, 'trestbps': <tf.Tensor: shape=(16,), dtype=int32, numpy=\n",
            "array([145, 160, 120, 130, 130, 120, 140, 120, 130, 140, 140, 140, 130,\n",
            "       120, 172, 150], dtype=int32)>, 'chol': <tf.Tensor: shape=(16,), dtype=int32, numpy=\n",
            "array([233, 286, 229, 250, 204, 236, 268, 354, 254, 203, 192, 294, 256,\n",
            "       263, 199, 168], dtype=int32)>, 'fbs': <tf.Tensor: shape=(16,), dtype=int32, numpy=array([1, 0, 0, 0, 0, 0, 0, 0, 0, 1, 0, 0, 1, 0, 1, 0], dtype=int32)>, 'restecg': <tf.Tensor: shape=(16,), dtype=int32, numpy=array([2, 2, 2, 0, 2, 0, 2, 0, 2, 2, 0, 2, 2, 0, 0, 0], dtype=int32)>, 'thalach': <tf.Tensor: shape=(16,), dtype=int32, numpy=\n",
            "array([150, 108, 129, 187, 172, 178, 160, 163, 147, 155, 148, 153, 142,\n",
            "       173, 162, 174], dtype=int32)>, 'exang': <tf.Tensor: shape=(16,), dtype=int32, numpy=array([0, 1, 1, 0, 0, 0, 0, 1, 0, 1, 0, 0, 1, 0, 0, 0], dtype=int32)>, 'oldpeak': <tf.Tensor: shape=(16,), dtype=float32, numpy=\n",
            "array([2.3, 1.5, 2.6, 3.5, 1.4, 0.8, 3.6, 0.6, 1.4, 3.1, 0.4, 1.3, 0.6,\n",
            "       0. , 0.5, 1.6], dtype=float32)>, 'slope': <tf.Tensor: shape=(16,), dtype=int32, numpy=array([3, 2, 2, 3, 1, 1, 3, 1, 2, 3, 2, 2, 2, 1, 1, 1], dtype=int32)>, 'ca': <tf.Tensor: shape=(16,), dtype=int32, numpy=array([0, 3, 2, 0, 0, 0, 2, 0, 1, 0, 0, 0, 1, 0, 0, 0], dtype=int32)>, 'thal': <tf.Tensor: shape=(16,), dtype=int32, numpy=array([2, 3, 4, 3, 3, 3, 3, 3, 4, 4, 2, 3, 2, 4, 4, 3], dtype=int32)>}, <tf.Tensor: shape=(16,), dtype=int64, numpy=array([0, 1, 0, 0, 0, 0, 1, 0, 1, 0, 0, 0, 1, 0, 0, 0])>)\n"
          ],
          "name": "stdout"
        }
      ]
    },
    {
      "cell_type": "code",
      "metadata": {
        "id": "jSPJivjatkgY",
        "colab_type": "code",
        "colab": {
          "base_uri": "https://localhost:8080/",
          "height": 953
        },
        "outputId": "77809430-4c3e-4538-9b68-fb732a6aed84"
      },
      "source": [
        "model_func.summary()"
      ],
      "execution_count": 44,
      "outputs": [
        {
          "output_type": "stream",
          "text": [
            "Model: \"model\"\n",
            "__________________________________________________________________________________________________\n",
            "Layer (type)                    Output Shape         Param #     Connected to                     \n",
            "==================================================================================================\n",
            "age (InputLayer)                [(None,)]            0                                            \n",
            "__________________________________________________________________________________________________\n",
            "sex (InputLayer)                [(None,)]            0                                            \n",
            "__________________________________________________________________________________________________\n",
            "cp (InputLayer)                 [(None,)]            0                                            \n",
            "__________________________________________________________________________________________________\n",
            "trestbps (InputLayer)           [(None,)]            0                                            \n",
            "__________________________________________________________________________________________________\n",
            "chol (InputLayer)               [(None,)]            0                                            \n",
            "__________________________________________________________________________________________________\n",
            "fbs (InputLayer)                [(None,)]            0                                            \n",
            "__________________________________________________________________________________________________\n",
            "restecg (InputLayer)            [(None,)]            0                                            \n",
            "__________________________________________________________________________________________________\n",
            "thalach (InputLayer)            [(None,)]            0                                            \n",
            "__________________________________________________________________________________________________\n",
            "exang (InputLayer)              [(None,)]            0                                            \n",
            "__________________________________________________________________________________________________\n",
            "oldpeak (InputLayer)            [(None,)]            0                                            \n",
            "__________________________________________________________________________________________________\n",
            "slope (InputLayer)              [(None,)]            0                                            \n",
            "__________________________________________________________________________________________________\n",
            "ca (InputLayer)                 [(None,)]            0                                            \n",
            "__________________________________________________________________________________________________\n",
            "thal (InputLayer)               [(None,)]            0                                            \n",
            "__________________________________________________________________________________________________\n",
            "tf_op_layer_stack (TensorFlowOp [(None, 13)]         0           age[0][0]                        \n",
            "                                                                 sex[0][0]                        \n",
            "                                                                 cp[0][0]                         \n",
            "                                                                 trestbps[0][0]                   \n",
            "                                                                 chol[0][0]                       \n",
            "                                                                 fbs[0][0]                        \n",
            "                                                                 restecg[0][0]                    \n",
            "                                                                 thalach[0][0]                    \n",
            "                                                                 exang[0][0]                      \n",
            "                                                                 oldpeak[0][0]                    \n",
            "                                                                 slope[0][0]                      \n",
            "                                                                 ca[0][0]                         \n",
            "                                                                 thal[0][0]                       \n",
            "__________________________________________________________________________________________________\n",
            "dense_13 (Dense)                (None, 10)           140         tf_op_layer_stack[0][0]          \n",
            "__________________________________________________________________________________________________\n",
            "dense_14 (Dense)                (None, 1)            11          dense_13[0][0]                   \n",
            "==================================================================================================\n",
            "Total params: 151\n",
            "Trainable params: 151\n",
            "Non-trainable params: 0\n",
            "__________________________________________________________________________________________________\n"
          ],
          "name": "stdout"
        }
      ]
    },
    {
      "cell_type": "code",
      "metadata": {
        "id": "nLGVhICmtmil",
        "colab_type": "code",
        "colab": {}
      },
      "source": [
        ""
      ],
      "execution_count": 0,
      "outputs": []
    }
  ]
}