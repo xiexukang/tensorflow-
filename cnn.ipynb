{
  "nbformat": 4,
  "nbformat_minor": 0,
  "metadata": {
    "colab": {
      "name": "cnn.ipynb",
      "provenance": [],
      "collapsed_sections": [],
      "toc_visible": true,
      "mount_file_id": "1BrihEJ-wQDMhZgkcTHu9CFFXZGiVMjb8",
      "authorship_tag": "ABX9TyMFMs/I6fcdLhVa4w17aZ3T",
      "include_colab_link": true
    },
    "kernelspec": {
      "name": "python3",
      "display_name": "Python 3"
    }
  },
  "cells": [
    {
      "cell_type": "markdown",
      "metadata": {
        "id": "view-in-github",
        "colab_type": "text"
      },
      "source": [
        "<a href=\"https://colab.research.google.com/github/xiexukang/tensorflow-/blob/master/cnn.ipynb\" target=\"_parent\"><img src=\"https://colab.research.google.com/assets/colab-badge.svg\" alt=\"Open In Colab\"/></a>"
      ]
    },
    {
      "cell_type": "code",
      "metadata": {
        "id": "gDpNlRE5Dq9k",
        "colab_type": "code",
        "colab": {}
      },
      "source": [
        "import warnings\n",
        "import numpy as np\n",
        "import pandas as pd\n",
        "import seaborn as sns\n",
        "import tensorflow as tf\n",
        "import matplotlib.pyplot as plt\n",
        "from tensorflow import keras\n",
        "from tensorflow.keras import layers, models, optimizers, metrics\n",
        "from sklearn.model_selection import train_test_split\n",
        "from sklearn.metrics import confusion_matrix, accuracy_score\n",
        "warnings.filterwarnings('ignore')\n",
        "%matplotlib inline\n"
      ],
      "execution_count": 0,
      "outputs": []
    },
    {
      "cell_type": "code",
      "metadata": {
        "id": "fvfZm6OjESho",
        "colab_type": "code",
        "colab": {}
      },
      "source": [
        "# kaggle mnist\n",
        "def load_data(path):\n",
        "    data = pd.read_csv(path)\n",
        "    data_x = data.drop(['label'], axis=1).values\n",
        "    data_y = data.label.values\n",
        "    train_x, valid_x, train_y, valid_y = train_test_split(data_x, data_y, test_size=1000)\n",
        "    train_x = tf.cast(train_x, tf.float32)/255.0\n",
        "    valid_x = tf.cast(valid_x, tf.float32)/255.0\n",
        "    train_y = tf.cast(train_y, tf.int64)\n",
        "    valid_y = tf.cast(valid_y, tf.int64)\n",
        "    #train_x, valid_x = train_x/np.float64(255), valid_x/np.float64(255)\n",
        "    train_ds = tf.data.Dataset.from_tensor_slices((train_x, train_y))\n",
        "    valid_ds = tf.data.Dataset.from_tensor_slices((valid_x, valid_y))\n",
        "    # 采样\n",
        "    train_ds = train_ds.take(10000).shuffle(10000).batch(500)\n",
        "    valid_ds = valid_ds.batch(500)\n",
        "    return train_ds , valid_ds\n"
      ],
      "execution_count": 0,
      "outputs": []
    },
    {
      "cell_type": "code",
      "metadata": {
        "id": "QNBhz96gFgR9",
        "colab_type": "code",
        "colab": {}
      },
      "source": [
        "mnist = keras.datasets.mnist"
      ],
      "execution_count": 0,
      "outputs": []
    },
    {
      "cell_type": "code",
      "metadata": {
        "id": "NI0J2mVvFkyn",
        "colab_type": "code",
        "colab": {}
      },
      "source": [
        "(x_train, y_train), (x_test ,y_test) = mnist.load_data()"
      ],
      "execution_count": 0,
      "outputs": []
    },
    {
      "cell_type": "code",
      "metadata": {
        "id": "uTxTw_pRFw20",
        "colab_type": "code",
        "colab": {
          "base_uri": "https://localhost:8080/",
          "height": 35
        },
        "outputId": "7aa97f3f-11bf-40d8-a813-1b95f8232b7e"
      },
      "source": [
        "x_train.shape"
      ],
      "execution_count": 204,
      "outputs": [
        {
          "output_type": "execute_result",
          "data": {
            "text/plain": [
              "(60000, 28, 28)"
            ]
          },
          "metadata": {
            "tags": []
          },
          "execution_count": 204
        }
      ]
    },
    {
      "cell_type": "code",
      "metadata": {
        "id": "nOx4LaQIFysS",
        "colab_type": "code",
        "colab": {}
      },
      "source": [
        "x_train = tf.cast(x_train, tf.float32)/255.0\n",
        "x_test = tf.cast(x_test, tf.float32)/255.0\n",
        "y_train = tf.cast(y_train, tf.int64)\n",
        "y_test = tf.cast(y_test, tf.int64)\n"
      ],
      "execution_count": 0,
      "outputs": []
    },
    {
      "cell_type": "code",
      "metadata": {
        "id": "Fzz2jCz-hB7x",
        "colab_type": "code",
        "colab": {
          "base_uri": "https://localhost:8080/",
          "height": 35
        },
        "outputId": "b7d45d4e-23d0-4961-e270-4f62eca838b0"
      },
      "source": [
        "x_train.shape\n",
        "y_train.shape"
      ],
      "execution_count": 206,
      "outputs": [
        {
          "output_type": "execute_result",
          "data": {
            "text/plain": [
              "TensorShape([60000])"
            ]
          },
          "metadata": {
            "tags": []
          },
          "execution_count": 206
        }
      ]
    },
    {
      "cell_type": "code",
      "metadata": {
        "id": "l5ewTbE5GTRO",
        "colab_type": "code",
        "colab": {}
      },
      "source": [
        "train_ds = tf.data.Dataset.from_tensor_slices((x_train,y_train))\n",
        "valid_ds = tf.data.Dataset.from_tensor_slices((x_test, y_test))"
      ],
      "execution_count": 0,
      "outputs": []
    },
    {
      "cell_type": "code",
      "metadata": {
        "id": "Vof2T617h9cp",
        "colab_type": "code",
        "colab": {
          "base_uri": "https://localhost:8080/",
          "height": 55
        },
        "outputId": "5961017b-eb06-4b4a-e144-1f131cf9037a"
      },
      "source": [
        "print(train_ds,valid_ds)"
      ],
      "execution_count": 208,
      "outputs": [
        {
          "output_type": "stream",
          "text": [
            "<TensorSliceDataset shapes: ((28, 28), ()), types: (tf.float32, tf.int64)> <TensorSliceDataset shapes: ((28, 28), ()), types: (tf.float32, tf.int64)>\n"
          ],
          "name": "stdout"
        }
      ]
    },
    {
      "cell_type": "code",
      "metadata": {
        "id": "hn3T1TQshBFx",
        "colab_type": "code",
        "colab": {}
      },
      "source": [
        "train_ds = train_ds.take(10000).shuffle(10000).batch(500)\n",
        "valid_ds = valid_ds.batch(500)"
      ],
      "execution_count": 0,
      "outputs": []
    },
    {
      "cell_type": "code",
      "metadata": {
        "id": "k8miQ79CGtn_",
        "colab_type": "code",
        "colab": {
          "base_uri": "https://localhost:8080/",
          "height": 55
        },
        "outputId": "ef4ec6b5-8e69-428a-da6b-26f68394fd90"
      },
      "source": [
        "print(train_ds,valid_ds)"
      ],
      "execution_count": 210,
      "outputs": [
        {
          "output_type": "stream",
          "text": [
            "<BatchDataset shapes: ((None, 28, 28), (None,)), types: (tf.float32, tf.int64)> <BatchDataset shapes: ((None, 28, 28), (None,)), types: (tf.float32, tf.int64)>\n"
          ],
          "name": "stdout"
        }
      ]
    },
    {
      "cell_type": "code",
      "metadata": {
        "id": "B58OLQjhI1OW",
        "colab_type": "code",
        "colab": {
          "base_uri": "https://localhost:8080/",
          "height": 35
        },
        "outputId": "73bc66bd-13d6-45b8-9639-573fae90d75b"
      },
      "source": [
        "y_train"
      ],
      "execution_count": 211,
      "outputs": [
        {
          "output_type": "execute_result",
          "data": {
            "text/plain": [
              "<tf.Tensor: shape=(60000,), dtype=int64, numpy=array([5, 0, 4, ..., 5, 6, 8])>"
            ]
          },
          "metadata": {
            "tags": []
          },
          "execution_count": 211
        }
      ]
    },
    {
      "cell_type": "code",
      "metadata": {
        "id": "KQyfsdwTKP35",
        "colab_type": "code",
        "colab": {}
      },
      "source": [
        "# softmax cross entropy\n",
        "def loss_function(labels, pred_proba):\n",
        "    loss = tf.nn.sparse_softmax_cross_entropy_with_logits(labels=labels, logits=pred_proba)\n",
        "    return tf.reduce_mean(loss)\n",
        "\n",
        "def compute_accuracy(labels, pred_proba):\n",
        "    predictions = tf.argmax(pred_proba, axis=1)\n",
        "    return accuracy_score(labels, predictions)\n"
      ],
      "execution_count": 0,
      "outputs": []
    },
    {
      "cell_type": "code",
      "metadata": {
        "id": "oep5byY6KXpY",
        "colab_type": "code",
        "colab": {}
      },
      "source": [
        "def test(model, valid_ds):\n",
        "    loss_ , accu_ = [], []\n",
        "    for (images, labels) in valid_ds:\n",
        "        pred_proba = model.predict_proba(images)\n",
        "        loss_.append(loss_function(labels, pred_proba))\n",
        "        accu_.append(compute_accuracy(labels, pred_proba))\n",
        "    return np.mean(loss_), np.mean(accu_)\n"
      ],
      "execution_count": 0,
      "outputs": []
    },
    {
      "cell_type": "code",
      "metadata": {
        "id": "YsokO441KnML",
        "colab_type": "code",
        "colab": {}
      },
      "source": [
        "def train(model, epochs):\n",
        "    compute_accuracy = tf.keras.metrics.SparseCategoricalAccuracy()\n",
        "    optimizer = optimizers.Adam(learning_rate=0.01)\n",
        "    trainloss_list = []    # every step loss\n",
        "    trainaccuracy_list = []\n",
        "    \n",
        "    for i in range(epochs):\n",
        "        for step,(x, y) in enumerate(train_ds):\n",
        "            with tf.GradientTape() as gdt:\n",
        "                \n",
        "                pred_proba = model(x, training=True)\n",
        "                predictions = tf.argmax(pred_proba, axis=1)\n",
        "                tloss_ = loss_function(y, pred_proba)\n",
        "                taccu_ = accuracy_score(y, predictions)\n",
        "                trainloss_list.append(tloss_)\n",
        "                trainaccuracy_list.append(taccu_)\n",
        "            # compute gradient\n",
        "            grads = gdt.gradient(tloss_, model.trainable_variables)\n",
        "            # update weights\n",
        "            optimizer.apply_gradients(zip(grads, model.trainable_variables))\n",
        "            if step%1000==0:\n",
        "                print('Train loss is : %f, Train accuracy is : %f'%(tloss_, taccu_))\n",
        "                \n",
        "    return trainloss_list,trainaccuracy_list, model\n"
      ],
      "execution_count": 0,
      "outputs": []
    },
    {
      "cell_type": "code",
      "metadata": {
        "id": "ut2SDnhbeCPx",
        "colab_type": "code",
        "colab": {
          "base_uri": "https://localhost:8080/",
          "height": 1000
        },
        "outputId": "ec567b5b-ab26-4a8e-e8bb-5e0baf0cf532"
      },
      "source": [
        "for x,y in train_ds:\n",
        "  print(x)\n",
        "  print(\"*\"*20)\n",
        "  print(y)\n",
        "  break"
      ],
      "execution_count": 215,
      "outputs": [
        {
          "output_type": "stream",
          "text": [
            "tf.Tensor(\n",
            "[[[0. 0. 0. ... 0. 0. 0.]\n",
            "  [0. 0. 0. ... 0. 0. 0.]\n",
            "  [0. 0. 0. ... 0. 0. 0.]\n",
            "  ...\n",
            "  [0. 0. 0. ... 0. 0. 0.]\n",
            "  [0. 0. 0. ... 0. 0. 0.]\n",
            "  [0. 0. 0. ... 0. 0. 0.]]\n",
            "\n",
            " [[0. 0. 0. ... 0. 0. 0.]\n",
            "  [0. 0. 0. ... 0. 0. 0.]\n",
            "  [0. 0. 0. ... 0. 0. 0.]\n",
            "  ...\n",
            "  [0. 0. 0. ... 0. 0. 0.]\n",
            "  [0. 0. 0. ... 0. 0. 0.]\n",
            "  [0. 0. 0. ... 0. 0. 0.]]\n",
            "\n",
            " [[0. 0. 0. ... 0. 0. 0.]\n",
            "  [0. 0. 0. ... 0. 0. 0.]\n",
            "  [0. 0. 0. ... 0. 0. 0.]\n",
            "  ...\n",
            "  [0. 0. 0. ... 0. 0. 0.]\n",
            "  [0. 0. 0. ... 0. 0. 0.]\n",
            "  [0. 0. 0. ... 0. 0. 0.]]\n",
            "\n",
            " ...\n",
            "\n",
            " [[0. 0. 0. ... 0. 0. 0.]\n",
            "  [0. 0. 0. ... 0. 0. 0.]\n",
            "  [0. 0. 0. ... 0. 0. 0.]\n",
            "  ...\n",
            "  [0. 0. 0. ... 0. 0. 0.]\n",
            "  [0. 0. 0. ... 0. 0. 0.]\n",
            "  [0. 0. 0. ... 0. 0. 0.]]\n",
            "\n",
            " [[0. 0. 0. ... 0. 0. 0.]\n",
            "  [0. 0. 0. ... 0. 0. 0.]\n",
            "  [0. 0. 0. ... 0. 0. 0.]\n",
            "  ...\n",
            "  [0. 0. 0. ... 0. 0. 0.]\n",
            "  [0. 0. 0. ... 0. 0. 0.]\n",
            "  [0. 0. 0. ... 0. 0. 0.]]\n",
            "\n",
            " [[0. 0. 0. ... 0. 0. 0.]\n",
            "  [0. 0. 0. ... 0. 0. 0.]\n",
            "  [0. 0. 0. ... 0. 0. 0.]\n",
            "  ...\n",
            "  [0. 0. 0. ... 0. 0. 0.]\n",
            "  [0. 0. 0. ... 0. 0. 0.]\n",
            "  [0. 0. 0. ... 0. 0. 0.]]], shape=(500, 28, 28), dtype=float32)\n",
            "********************\n",
            "tf.Tensor(\n",
            "[2 1 3 6 0 6 5 6 2 5 5 3 6 1 7 5 0 4 2 7 1 2 0 0 4 3 2 4 1 7 2 6 4 6 7 4 7\n",
            " 5 3 1 3 6 0 8 9 6 4 1 7 3 3 4 6 3 5 4 6 0 0 5 5 1 6 7 0 8 7 0 1 8 4 2 1 8\n",
            " 8 4 1 2 1 8 8 9 9 2 6 4 5 2 5 5 8 8 0 5 8 7 6 3 4 1 8 4 2 5 1 4 8 2 0 7 5\n",
            " 3 5 6 8 3 8 7 1 3 9 9 8 6 0 0 4 7 0 6 7 9 0 3 5 3 0 0 6 8 0 4 0 8 0 2 6 0\n",
            " 0 2 3 1 6 2 4 1 5 6 7 9 0 4 2 3 5 2 2 6 2 3 4 3 4 3 8 3 8 2 6 7 4 6 0 0 7\n",
            " 8 4 2 5 9 0 1 5 4 8 1 9 1 6 3 0 8 6 5 5 0 8 5 6 1 6 3 4 4 0 5 8 3 4 7 4 6\n",
            " 4 7 0 6 6 0 6 0 6 8 2 7 7 8 1 0 8 6 7 1 8 0 4 6 0 1 9 6 3 1 0 2 5 8 0 2 8\n",
            " 7 7 7 4 7 8 5 9 1 2 8 9 6 7 7 5 8 7 6 4 3 4 1 7 5 7 4 4 3 3 1 0 4 7 1 0 7\n",
            " 4 7 4 3 9 1 4 6 9 3 4 2 9 8 7 7 0 7 4 9 3 9 3 4 1 3 4 1 2 0 8 1 8 9 1 9 6\n",
            " 5 3 8 3 6 8 6 3 2 3 7 9 9 1 9 8 2 3 0 8 7 5 6 2 7 1 8 7 9 9 9 8 6 2 3 2 9\n",
            " 3 8 1 7 9 3 8 9 7 3 4 2 7 1 5 1 8 1 2 3 4 3 6 3 7 4 9 6 8 7 7 7 6 6 2 1 4\n",
            " 1 3 3 4 5 4 4 1 9 0 9 2 3 8 4 7 9 6 6 6 1 8 8 7 1 8 5 9 7 6 1 8 5 3 7 0 6\n",
            " 8 4 6 2 8 6 3 7 3 9 6 9 4 3 7 4 9 1 8 0 5 6 4 9 2 0 0 1 7 4 2 9 8 5 6 0 8\n",
            " 1 5 7 7 3 6 1 4 0 8 9 0 9 8 0 5 3 7 6], shape=(500,), dtype=int64)\n"
          ],
          "name": "stdout"
        }
      ]
    },
    {
      "cell_type": "code",
      "metadata": {
        "id": "PWCkpzKMYvuh",
        "colab_type": "code",
        "colab": {}
      },
      "source": [
        "model = tf.keras.Sequential([layers.Reshape(target_shape=(28, 28, 1), input_shape=(28,28,)),\n",
        "                             layers.BatchNormalization(),\n",
        "                             layers.Conv2D(2, 3, padding='same', activation=tf.nn.relu),\n",
        "                             layers.MaxPooling2D((2, 2), (2, 2), padding='same'),\n",
        "                             layers.Conv2D(4, 5, padding='same', activation=tf.nn.relu),\n",
        "                             layers.MaxPooling2D((2, 2), (2, 2), padding='same'),\n",
        "                             layers.Conv2D(5, 6, padding='same', activation=tf.nn.leaky_relu),\n",
        "                             layers.MaxPooling2D((2, 2), (2, 2), padding='same'),\n",
        "                             layers.Flatten(),\n",
        "                             layers.Dense(64, activation=tf.nn.relu),\n",
        "                             layers.Dense(32, activation=tf.nn.relu),\n",
        "                             layers.Dropout(rate=0.3),\n",
        "                             layers.Dense(10, activation=tf.nn.softmax)])\n"
      ],
      "execution_count": 0,
      "outputs": []
    },
    {
      "cell_type": "code",
      "metadata": {
        "id": "RtuFDqwxbOrM",
        "colab_type": "code",
        "colab": {}
      },
      "source": [
        "model1 = tf.keras.Sequential([layers.Reshape(target_shape=(28, 28, 1), input_shape=(28,28,)),\n",
        "                            \n",
        "                             layers.Conv2D(2, 3, padding='same', activation=tf.nn.relu),\n",
        "                             layers.MaxPooling2D((2, 2), (2, 2), padding='same'),\n",
        "                             layers.Conv2D(4, 5, padding='same', activation=tf.nn.relu),\n",
        "                             layers.MaxPooling2D((2, 2), (2, 2), padding='same'),\n",
        "                             layers.Flatten(),\n",
        "                             layers.Dense(32, activation=tf.nn.relu),\n",
        "                             layers.Dropout(rate=0.3),\n",
        "                             layers.Dense(10, activation=tf.nn.softmax)])"
      ],
      "execution_count": 0,
      "outputs": []
    },
    {
      "cell_type": "code",
      "metadata": {
        "id": "YJfOzk9AdBBp",
        "colab_type": "code",
        "colab": {
          "base_uri": "https://localhost:8080/",
          "height": 413
        },
        "outputId": "3bb278be-2660-425e-acff-f41014d3131c"
      },
      "source": [
        "%time tloss1, taccu1, cnn_model1= train(model1, 20)\n"
      ],
      "execution_count": 234,
      "outputs": [
        {
          "output_type": "stream",
          "text": [
            "Train loss is : 1.572474, Train accuracy is : 0.890000\n",
            "Train loss is : 1.553437, Train accuracy is : 0.908000\n",
            "Train loss is : 1.562743, Train accuracy is : 0.898000\n",
            "Train loss is : 1.538097, Train accuracy is : 0.926000\n",
            "Train loss is : 1.532923, Train accuracy is : 0.926000\n",
            "Train loss is : 1.530753, Train accuracy is : 0.930000\n",
            "Train loss is : 1.541995, Train accuracy is : 0.926000\n",
            "Train loss is : 1.558019, Train accuracy is : 0.906000\n",
            "Train loss is : 1.574192, Train accuracy is : 0.886000\n",
            "Train loss is : 1.537228, Train accuracy is : 0.928000\n",
            "Train loss is : 1.563756, Train accuracy is : 0.898000\n",
            "Train loss is : 1.528143, Train accuracy is : 0.934000\n",
            "Train loss is : 1.543722, Train accuracy is : 0.922000\n",
            "Train loss is : 1.541490, Train accuracy is : 0.922000\n",
            "Train loss is : 1.561561, Train accuracy is : 0.894000\n",
            "Train loss is : 1.551171, Train accuracy is : 0.914000\n",
            "Train loss is : 1.533853, Train accuracy is : 0.928000\n",
            "Train loss is : 1.532187, Train accuracy is : 0.928000\n",
            "Train loss is : 1.521044, Train accuracy is : 0.938000\n",
            "Train loss is : 1.533384, Train accuracy is : 0.930000\n",
            "CPU times: user 1min 51s, sys: 845 ms, total: 1min 52s\n",
            "Wall time: 1min 1s\n"
          ],
          "name": "stdout"
        }
      ]
    },
    {
      "cell_type": "code",
      "metadata": {
        "id": "tJV2eFT1dCvr",
        "colab_type": "code",
        "colab": {
          "base_uri": "https://localhost:8080/",
          "height": 413
        },
        "outputId": "a18b19a7-a3b5-4d7c-ffe5-e05677596c6d"
      },
      "source": [
        "%time tloss, taccu, cnn_model= train(model, 20)"
      ],
      "execution_count": 229,
      "outputs": [
        {
          "output_type": "stream",
          "text": [
            "Train loss is : 2.306336, Train accuracy is : 0.078000\n",
            "Train loss is : 1.846455, Train accuracy is : 0.614000\n",
            "Train loss is : 1.696896, Train accuracy is : 0.770000\n",
            "Train loss is : 1.618928, Train accuracy is : 0.846000\n",
            "Train loss is : 1.572723, Train accuracy is : 0.892000\n",
            "Train loss is : 1.557001, Train accuracy is : 0.902000\n",
            "Train loss is : 1.569280, Train accuracy is : 0.894000\n",
            "Train loss is : 1.537828, Train accuracy is : 0.926000\n",
            "Train loss is : 1.521635, Train accuracy is : 0.938000\n",
            "Train loss is : 1.563714, Train accuracy is : 0.898000\n",
            "Train loss is : 1.572283, Train accuracy is : 0.888000\n",
            "Train loss is : 1.539526, Train accuracy is : 0.924000\n",
            "Train loss is : 1.511009, Train accuracy is : 0.948000\n",
            "Train loss is : 1.546779, Train accuracy is : 0.912000\n",
            "Train loss is : 1.528696, Train accuracy is : 0.932000\n",
            "Train loss is : 1.551497, Train accuracy is : 0.908000\n",
            "Train loss is : 1.547539, Train accuracy is : 0.914000\n",
            "Train loss is : 1.539715, Train accuracy is : 0.920000\n",
            "Train loss is : 1.535766, Train accuracy is : 0.924000\n",
            "Train loss is : 1.536335, Train accuracy is : 0.922000\n",
            "CPU times: user 2min 27s, sys: 1.22 s, total: 2min 28s\n",
            "Wall time: 1min 22s\n"
          ],
          "name": "stdout"
        }
      ]
    },
    {
      "cell_type": "code",
      "metadata": {
        "id": "G7CIoAbilcwo",
        "colab_type": "code",
        "colab": {}
      },
      "source": [
        "model1.save(\"model1.h5\")"
      ],
      "execution_count": 0,
      "outputs": []
    },
    {
      "cell_type": "code",
      "metadata": {
        "id": "31hiAYUSmkAs",
        "colab_type": "code",
        "colab": {
          "base_uri": "https://localhost:8080/",
          "height": 485
        },
        "outputId": "598b1757-6787-4394-cf55-a60d2fe090e3"
      },
      "source": [
        "model1.summary()"
      ],
      "execution_count": 231,
      "outputs": [
        {
          "output_type": "stream",
          "text": [
            "Model: \"sequential_26\"\n",
            "_________________________________________________________________\n",
            "Layer (type)                 Output Shape              Param #   \n",
            "=================================================================\n",
            "reshape_27 (Reshape)         (None, 28, 28, 1)         0         \n",
            "_________________________________________________________________\n",
            "conv2d_57 (Conv2D)           (None, 28, 28, 2)         20        \n",
            "_________________________________________________________________\n",
            "max_pooling2d_57 (MaxPooling (None, 14, 14, 2)         0         \n",
            "_________________________________________________________________\n",
            "conv2d_58 (Conv2D)           (None, 14, 14, 4)         204       \n",
            "_________________________________________________________________\n",
            "max_pooling2d_58 (MaxPooling (None, 7, 7, 4)           0         \n",
            "_________________________________________________________________\n",
            "flatten_27 (Flatten)         (None, 196)               0         \n",
            "_________________________________________________________________\n",
            "dense_57 (Dense)             (None, 32)                6304      \n",
            "_________________________________________________________________\n",
            "dropout_26 (Dropout)         (None, 32)                0         \n",
            "_________________________________________________________________\n",
            "dense_58 (Dense)             (None, 10)                330       \n",
            "=================================================================\n",
            "Total params: 6,858\n",
            "Trainable params: 6,858\n",
            "Non-trainable params: 0\n",
            "_________________________________________________________________\n"
          ],
          "name": "stdout"
        }
      ]
    },
    {
      "cell_type": "code",
      "metadata": {
        "id": "DUkXcjVamoHP",
        "colab_type": "code",
        "colab": {
          "base_uri": "https://localhost:8080/",
          "height": 629
        },
        "outputId": "f98b996f-8ef3-414c-8bd5-05e92bd54d3c"
      },
      "source": [
        "model.summary()"
      ],
      "execution_count": 232,
      "outputs": [
        {
          "output_type": "stream",
          "text": [
            "Model: \"sequential_25\"\n",
            "_________________________________________________________________\n",
            "Layer (type)                 Output Shape              Param #   \n",
            "=================================================================\n",
            "reshape_26 (Reshape)         (None, 28, 28, 1)         0         \n",
            "_________________________________________________________________\n",
            "batch_normalization_5 (Batch (None, 28, 28, 1)         4         \n",
            "_________________________________________________________________\n",
            "conv2d_54 (Conv2D)           (None, 28, 28, 2)         20        \n",
            "_________________________________________________________________\n",
            "max_pooling2d_54 (MaxPooling (None, 14, 14, 2)         0         \n",
            "_________________________________________________________________\n",
            "conv2d_55 (Conv2D)           (None, 14, 14, 4)         204       \n",
            "_________________________________________________________________\n",
            "max_pooling2d_55 (MaxPooling (None, 7, 7, 4)           0         \n",
            "_________________________________________________________________\n",
            "conv2d_56 (Conv2D)           (None, 7, 7, 5)           725       \n",
            "_________________________________________________________________\n",
            "max_pooling2d_56 (MaxPooling (None, 4, 4, 5)           0         \n",
            "_________________________________________________________________\n",
            "flatten_26 (Flatten)         (None, 80)                0         \n",
            "_________________________________________________________________\n",
            "dense_54 (Dense)             (None, 64)                5184      \n",
            "_________________________________________________________________\n",
            "dense_55 (Dense)             (None, 32)                2080      \n",
            "_________________________________________________________________\n",
            "dropout_25 (Dropout)         (None, 32)                0         \n",
            "_________________________________________________________________\n",
            "dense_56 (Dense)             (None, 10)                330       \n",
            "=================================================================\n",
            "Total params: 8,547\n",
            "Trainable params: 8,545\n",
            "Non-trainable params: 2\n",
            "_________________________________________________________________\n"
          ],
          "name": "stdout"
        }
      ]
    },
    {
      "cell_type": "code",
      "metadata": {
        "id": "YQPYKq2hmsix",
        "colab_type": "code",
        "colab": {
          "base_uri": "https://localhost:8080/",
          "height": 241
        },
        "outputId": "ae63bef5-833c-4728-ec54-1cecc58982e7"
      },
      "source": [
        "plt.figure(figsize=(26, 6))\n",
        "plt.subplot(1,2,1)\n",
        "plt.plot(tloss)\n",
        "plt.plot(tloss1)\n",
        "plt.subplot(1,2,2)\n",
        "plt.plot(taccu)\n",
        "plt.plot(taccu1)\n"
      ],
      "execution_count": 235,
      "outputs": [
        {
          "output_type": "execute_result",
          "data": {
            "text/plain": [
              "[<matplotlib.lines.Line2D at 0x7fda66f0be80>]"
            ]
          },
          "metadata": {
            "tags": []
          },
          "execution_count": 235
        },
        {
          "output_type": "display_data",
          "data": {
            "image/png": "[encoded data removed]",
            "text/plain": [
              "<Figure size 1872x432 with 2 Axes>"
            ]
          },
          "metadata": {
            "tags": [],
            "needs_background": "light"
          }
        }
      ]
    },
    {
      "cell_type": "code",
      "metadata": {
        "id": "yLlpXj0nm2Nm",
        "colab_type": "code",
        "colab": {
          "base_uri": "https://localhost:8080/",
          "height": 127
        },
        "outputId": "92e4bdb9-bc61-47d9-a5a3-4d75936d8ee3"
      },
      "source": [
        "vloss, vaccu = test(cnn_model, valid_ds)\n",
        "print('valid loss is %f'%vloss)\n",
        "print('valid accu is %f'%vaccu)"
      ],
      "execution_count": 236,
      "outputs": [
        {
          "output_type": "stream",
          "text": [
            "WARNING:tensorflow:From <ipython-input-213-2d2512e324d9>:4: Sequential.predict_proba (from tensorflow.python.keras.engine.sequential) is deprecated and will be removed after 2021-01-01.\n",
            "Instructions for updating:\n",
            "Please use `model.predict()` instead.\n",
            "valid loss is 1.507066\n",
            "valid accu is 0.954100\n"
          ],
          "name": "stdout"
        }
      ]
    },
    {
      "cell_type": "code",
      "metadata": {
        "id": "kjqD91tXnoF6",
        "colab_type": "code",
        "colab": {
          "base_uri": "https://localhost:8080/",
          "height": 251
        },
        "outputId": "b8dc5d0e-ec17-42db-8897-9fe614fbae4d"
      },
      "source": [
        "cnn_model.predict(x_test)"
      ],
      "execution_count": 240,
      "outputs": [
        {
          "output_type": "execute_result",
          "data": {
            "text/plain": [
              "array([[0.0000000e+00, 0.0000000e+00, 0.0000000e+00, ..., 1.0000000e+00,\n",
              "        0.0000000e+00, 0.0000000e+00],\n",
              "       [0.0000000e+00, 0.0000000e+00, 1.0000000e+00, ..., 0.0000000e+00,\n",
              "        0.0000000e+00, 0.0000000e+00],\n",
              "       [9.2172349e-34, 1.0000000e+00, 9.5933787e-17, ..., 8.8423853e-25,\n",
              "        1.4212025e-19, 2.4580341e-28],\n",
              "       ...,\n",
              "       [0.0000000e+00, 0.0000000e+00, 0.0000000e+00, ..., 1.2521491e-30,\n",
              "        1.1912651e-20, 1.1569419e-12],\n",
              "       [0.0000000e+00, 0.0000000e+00, 0.0000000e+00, ..., 0.0000000e+00,\n",
              "        4.1161860e-18, 2.4169061e-38],\n",
              "       [0.0000000e+00, 0.0000000e+00, 0.0000000e+00, ..., 0.0000000e+00,\n",
              "        0.0000000e+00, 0.0000000e+00]], dtype=float32)"
            ]
          },
          "metadata": {
            "tags": []
          },
          "execution_count": 240
        }
      ]
    },
    {
      "cell_type": "code",
      "metadata": {
        "id": "h_pSDBxVnyOr",
        "colab_type": "code",
        "colab": {}
      },
      "source": [
        ""
      ],
      "execution_count": 0,
      "outputs": []
    }
  ]
}