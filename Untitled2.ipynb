{
  "nbformat": 4,
  "nbformat_minor": 0,
  "metadata": {
    "colab": {
      "name": "Untitled2.ipynb",
      "provenance": [],
      "mount_file_id": "16dBue70AUhOhUQ1uV1KH7WBYm87SRMiL",
      "authorship_tag": "ABX9TyNbqlyNlPZBDiiRbh7xbVXR",
      "include_colab_link": true
    },
    "kernelspec": {
      "name": "python3",
      "display_name": "Python 3"
    }
  },
  "cells": [
    {
      "cell_type": "markdown",
      "metadata": {
        "id": "view-in-github",
        "colab_type": "text"
      },
      "source": [
        "<a href=\"https://colab.research.google.com/github/xiexukang/tensorflow-/blob/master/Untitled2.ipynb\" target=\"_parent\"><img src=\"https://colab.research.google.com/assets/colab-badge.svg\" alt=\"Open In Colab\"/></a>"
      ]
    },
    {
      "cell_type": "code",
      "metadata": {
        "id": "0Brmao-U8Sgj",
        "colab_type": "code",
        "colab": {}
      },
      "source": [
        "from __future__ import absolute_import, division, print_function, unicode_literals\n",
        "\n",
        "# 安装 TensorFlow\n",
        "\n",
        "import tensorflow as tf"
      ],
      "execution_count": 0,
      "outputs": []
    },
    {
      "cell_type": "code",
      "metadata": {
        "id": "X--AQZqb9A59",
        "colab_type": "code",
        "colab": {
          "base_uri": "https://localhost:8080/",
          "height": 53
        },
        "outputId": "3e06e4ec-32ff-4cd4-f77e-40239970cf65"
      },
      "source": [
        "mnist = tf.keras.datasets.mnist\n",
        "\n",
        "(x_train, y_train), (x_test, y_test) = mnist.load_data()\n",
        "x_train, x_test = x_train / 255.0, x_test / 255.0"
      ],
      "execution_count": 2,
      "outputs": [
        {
          "output_type": "stream",
          "text": [
            "Downloading data from https://storage.googleapis.com/tensorflow/tf-keras-datasets/mnist.npz\n",
            "11493376/11490434 [==============================] - 0s 0us/step\n"
          ],
          "name": "stdout"
        }
      ]
    },
    {
      "cell_type": "code",
      "metadata": {
        "id": "kKtAxYJ_BQS-",
        "colab_type": "code",
        "colab": {}
      },
      "source": [
        "model = tf.keras.models.Sequential([\n",
        "  tf.keras.layers.Flatten(input_shape=(28, 28)),\n",
        "  tf.keras.layers.Dense(128, activation='relu'),\n",
        "  tf.keras.layers.Dense(64, activation='relu'),\n",
        "  tf.keras.layers.Dropout(0.2),\n",
        "  tf.keras.layers.Dense(10, activation='softmax')\n",
        "])\n",
        "\n",
        "model.compile(optimizer='adam',\n",
        "              loss='sparse_categorical_crossentropy',\n",
        "              metrics=['accuracy'])"
      ],
      "execution_count": 0,
      "outputs": []
    },
    {
      "cell_type": "code",
      "metadata": {
        "id": "U_UDV-jACumy",
        "colab_type": "code",
        "colab": {
          "base_uri": "https://localhost:8080/",
          "height": 341
        },
        "outputId": "bee4d298-e8c2-48d6-8400-9e591ce56c92"
      },
      "source": [
        "model.summary()"
      ],
      "execution_count": 4,
      "outputs": [
        {
          "output_type": "stream",
          "text": [
            "Model: \"sequential\"\n",
            "_________________________________________________________________\n",
            "Layer (type)                 Output Shape              Param #   \n",
            "=================================================================\n",
            "flatten (Flatten)            (None, 784)               0         \n",
            "_________________________________________________________________\n",
            "dense (Dense)                (None, 128)               100480    \n",
            "_________________________________________________________________\n",
            "dense_1 (Dense)              (None, 64)                8256      \n",
            "_________________________________________________________________\n",
            "dropout (Dropout)            (None, 64)                0         \n",
            "_________________________________________________________________\n",
            "dense_2 (Dense)              (None, 10)                650       \n",
            "=================================================================\n",
            "Total params: 109,386\n",
            "Trainable params: 109,386\n",
            "Non-trainable params: 0\n",
            "_________________________________________________________________\n"
          ],
          "name": "stdout"
        }
      ]
    },
    {
      "cell_type": "code",
      "metadata": {
        "id": "eIuGSO8PCwE5",
        "colab_type": "code",
        "colab": {}
      },
      "source": [
        "num_train = len(x_train)"
      ],
      "execution_count": 0,
      "outputs": []
    },
    {
      "cell_type": "code",
      "metadata": {
        "id": "bWbCY5gXDOou",
        "colab_type": "code",
        "colab": {
          "base_uri": "https://localhost:8080/",
          "height": 35
        },
        "outputId": "82dd66c0-3a32-4670-c73b-954012ac6df0"
      },
      "source": [
        "num_train"
      ],
      "execution_count": 6,
      "outputs": [
        {
          "output_type": "execute_result",
          "data": {
            "text/plain": [
              "60000"
            ]
          },
          "metadata": {
            "tags": []
          },
          "execution_count": 6
        }
      ]
    },
    {
      "cell_type": "code",
      "metadata": {
        "id": "ImScoOHNDo1O",
        "colab_type": "code",
        "colab": {}
      },
      "source": [
        "checkpoint = tf.keras.callbacks.ModelCheckpoint(filepath=\"./\",monitor='val_loss',verbose=0)\n",
        "lr_scheduler = tf.keras.callbacks.ReduceLROnPlateau(monitor='val_loss', factor=0.2,patience=5, min_lr=0.001)"
      ],
      "execution_count": 0,
      "outputs": []
    },
    {
      "cell_type": "code",
      "metadata": {
        "id": "o-mUQq4MDPc9",
        "colab_type": "code",
        "colab": {
          "base_uri": "https://localhost:8080/",
          "height": 1000
        },
        "outputId": "e5b4573e-b0d6-40e7-dc83-8a758126258f"
      },
      "source": [
        "model.fit(x_train, y_train, epochs=20,callbacks=checkpoint)"
      ],
      "execution_count": 8,
      "outputs": [
        {
          "output_type": "stream",
          "text": [
            "Epoch 1/20\n",
            "1858/1875 [============================>.] - ETA: 0s - loss: 0.2852 - accuracy: 0.9168WARNING:tensorflow:From /usr/local/lib/python3.6/dist-packages/tensorflow/python/ops/resource_variable_ops.py:1817: calling BaseResourceVariable.__init__ (from tensorflow.python.ops.resource_variable_ops) with constraint is deprecated and will be removed in a future version.\n",
            "Instructions for updating:\n",
            "If using Keras pass *_constraint arguments to layers.\n",
            "INFO:tensorflow:Assets written to: ./assets\n",
            "1875/1875 [==============================] - 4s 2ms/step - loss: 0.2836 - accuracy: 0.9172\n",
            "Epoch 2/20\n",
            "1854/1875 [============================>.] - ETA: 0s - loss: 0.1268 - accuracy: 0.9620INFO:tensorflow:Assets written to: ./assets\n",
            "1875/1875 [==============================] - 4s 2ms/step - loss: 0.1267 - accuracy: 0.9620\n",
            "Epoch 3/20\n",
            "1875/1875 [==============================] - ETA: 0s - loss: 0.0913 - accuracy: 0.9718INFO:tensorflow:Assets written to: ./assets\n",
            "1875/1875 [==============================] - 4s 2ms/step - loss: 0.0913 - accuracy: 0.9718\n",
            "Epoch 4/20\n",
            "1856/1875 [============================>.] - ETA: 0s - loss: 0.0705 - accuracy: 0.9784INFO:tensorflow:Assets written to: ./assets\n",
            "1875/1875 [==============================] - 4s 2ms/step - loss: 0.0706 - accuracy: 0.9784\n",
            "Epoch 5/20\n",
            "1850/1875 [============================>.] - ETA: 0s - loss: 0.0581 - accuracy: 0.9810INFO:tensorflow:Assets written to: ./assets\n",
            "1875/1875 [==============================] - 4s 2ms/step - loss: 0.0579 - accuracy: 0.9811\n",
            "Epoch 6/20\n",
            "1858/1875 [============================>.] - ETA: 0s - loss: 0.0495 - accuracy: 0.9834INFO:tensorflow:Assets written to: ./assets\n",
            "1875/1875 [==============================] - 4s 2ms/step - loss: 0.0494 - accuracy: 0.9834\n",
            "Epoch 7/20\n",
            "1849/1875 [============================>.] - ETA: 0s - loss: 0.0399 - accuracy: 0.9866INFO:tensorflow:Assets written to: ./assets\n",
            "1875/1875 [==============================] - 4s 2ms/step - loss: 0.0401 - accuracy: 0.9865\n",
            "Epoch 8/20\n",
            "1850/1875 [============================>.] - ETA: 0s - loss: 0.0361 - accuracy: 0.9884INFO:tensorflow:Assets written to: ./assets\n",
            "1875/1875 [==============================] - 4s 2ms/step - loss: 0.0363 - accuracy: 0.9884\n",
            "Epoch 9/20\n",
            "1875/1875 [==============================] - ETA: 0s - loss: 0.0333 - accuracy: 0.9887INFO:tensorflow:Assets written to: ./assets\n",
            "1875/1875 [==============================] - 4s 2ms/step - loss: 0.0333 - accuracy: 0.9887\n",
            "Epoch 10/20\n",
            "1860/1875 [============================>.] - ETA: 0s - loss: 0.0278 - accuracy: 0.9907INFO:tensorflow:Assets written to: ./assets\n",
            "1875/1875 [==============================] - 4s 2ms/step - loss: 0.0278 - accuracy: 0.9907\n",
            "Epoch 11/20\n",
            "1854/1875 [============================>.] - ETA: 0s - loss: 0.0255 - accuracy: 0.9914INFO:tensorflow:Assets written to: ./assets\n",
            "1875/1875 [==============================] - 4s 2ms/step - loss: 0.0254 - accuracy: 0.9915\n",
            "Epoch 12/20\n",
            "1849/1875 [============================>.] - ETA: 0s - loss: 0.0237 - accuracy: 0.9918INFO:tensorflow:Assets written to: ./assets\n",
            "1875/1875 [==============================] - 4s 2ms/step - loss: 0.0236 - accuracy: 0.9919\n",
            "Epoch 13/20\n",
            "1861/1875 [============================>.] - ETA: 0s - loss: 0.0222 - accuracy: 0.9927INFO:tensorflow:Assets written to: ./assets\n",
            "1875/1875 [==============================] - 4s 2ms/step - loss: 0.0222 - accuracy: 0.9927\n",
            "Epoch 14/20\n",
            "1861/1875 [============================>.] - ETA: 0s - loss: 0.0198 - accuracy: 0.9933INFO:tensorflow:Assets written to: ./assets\n",
            "1875/1875 [==============================] - 4s 2ms/step - loss: 0.0198 - accuracy: 0.9933\n",
            "Epoch 15/20\n",
            "1858/1875 [============================>.] - ETA: 0s - loss: 0.0190 - accuracy: 0.9934INFO:tensorflow:Assets written to: ./assets\n",
            "1875/1875 [==============================] - 4s 2ms/step - loss: 0.0191 - accuracy: 0.9934\n",
            "Epoch 16/20\n",
            "1868/1875 [============================>.] - ETA: 0s - loss: 0.0180 - accuracy: 0.9938INFO:tensorflow:Assets written to: ./assets\n",
            "1875/1875 [==============================] - 4s 2ms/step - loss: 0.0180 - accuracy: 0.9938\n",
            "Epoch 17/20\n",
            "1867/1875 [============================>.] - ETA: 0s - loss: 0.0182 - accuracy: 0.9938INFO:tensorflow:Assets written to: ./assets\n",
            "1875/1875 [==============================] - 4s 2ms/step - loss: 0.0183 - accuracy: 0.9938\n",
            "Epoch 18/20\n",
            "1872/1875 [============================>.] - ETA: 0s - loss: 0.0166 - accuracy: 0.9946INFO:tensorflow:Assets written to: ./assets\n",
            "1875/1875 [==============================] - 4s 2ms/step - loss: 0.0167 - accuracy: 0.9946\n",
            "Epoch 19/20\n",
            "1862/1875 [============================>.] - ETA: 0s - loss: 0.0151 - accuracy: 0.9950INFO:tensorflow:Assets written to: ./assets\n",
            "1875/1875 [==============================] - 4s 2ms/step - loss: 0.0151 - accuracy: 0.9950\n",
            "Epoch 20/20\n",
            "1851/1875 [============================>.] - ETA: 0s - loss: 0.0150 - accuracy: 0.9951INFO:tensorflow:Assets written to: ./assets\n",
            "1875/1875 [==============================] - 4s 2ms/step - loss: 0.0151 - accuracy: 0.9951\n"
          ],
          "name": "stdout"
        },
        {
          "output_type": "execute_result",
          "data": {
            "text/plain": [
              "<tensorflow.python.keras.callbacks.History at 0x7f76a6c8f048>"
            ]
          },
          "metadata": {
            "tags": []
          },
          "execution_count": 8
        }
      ]
    },
    {
      "cell_type": "code",
      "metadata": {
        "id": "rlGnm6zVEA0x",
        "colab_type": "code",
        "colab": {
          "base_uri": "https://localhost:8080/",
          "height": 53
        },
        "outputId": "0831c581-ae74-4ff3-a7af-c0d256267aef"
      },
      "source": [
        "model.evaluate(x_test,  y_test, verbose=2)"
      ],
      "execution_count": 9,
      "outputs": [
        {
          "output_type": "stream",
          "text": [
            "313/313 - 0s - loss: 0.1115 - accuracy: 0.9811\n"
          ],
          "name": "stdout"
        },
        {
          "output_type": "execute_result",
          "data": {
            "text/plain": [
              "[0.1115240752696991, 0.9811000227928162]"
            ]
          },
          "metadata": {
            "tags": []
          },
          "execution_count": 9
        }
      ]
    },
    {
      "cell_type": "code",
      "metadata": {
        "id": "2gVosX8nH2zA",
        "colab_type": "code",
        "colab": {}
      },
      "source": [
        "model.save('the_save_model.h5')"
      ],
      "execution_count": 0,
      "outputs": []
    },
    {
      "cell_type": "code",
      "metadata": {
        "id": "6-00RMq2IQpB",
        "colab_type": "code",
        "colab": {}
      },
      "source": [
        "\n",
        "new_model = tf.keras.models.load_model('the_save_model.h5')"
      ],
      "execution_count": 0,
      "outputs": []
    },
    {
      "cell_type": "code",
      "metadata": {
        "id": "RFggxFBXIWEY",
        "colab_type": "code",
        "colab": {
          "base_uri": "https://localhost:8080/",
          "height": 53
        },
        "outputId": "c6c3947f-33e5-4f76-8757-9bea96155301"
      },
      "source": [
        "new_model.evaluate(x_test,  y_test, verbose=2)"
      ],
      "execution_count": 16,
      "outputs": [
        {
          "output_type": "stream",
          "text": [
            "313/313 - 0s - loss: 0.1115 - accuracy: 0.9811\n"
          ],
          "name": "stdout"
        },
        {
          "output_type": "execute_result",
          "data": {
            "text/plain": [
              "[0.1115240752696991, 0.9811000227928162]"
            ]
          },
          "metadata": {
            "tags": []
          },
          "execution_count": 16
        }
      ]
    },
    {
      "cell_type": "code",
      "metadata": {
        "id": "72baI2_bKIt6",
        "colab_type": "code",
        "colab": {
          "base_uri": "https://localhost:8080/",
          "height": 1000
        },
        "outputId": "80cc0348-07a4-4cf5-ede3-6b0923bc44af"
      },
      "source": [
        "new_model.fit(x_train, y_train, epochs=20,callbacks=checkpoint)\n"
      ],
      "execution_count": 17,
      "outputs": [
        {
          "output_type": "stream",
          "text": [
            "Epoch 1/20\n",
            "1853/1875 [============================>.] - ETA: 0s - loss: 0.0157 - accuracy: 0.9948INFO:tensorflow:Assets written to: ./assets\n",
            "1875/1875 [==============================] - 4s 2ms/step - loss: 0.0157 - accuracy: 0.9948\n",
            "Epoch 2/20\n",
            "1852/1875 [============================>.] - ETA: 0s - loss: 0.0134 - accuracy: 0.9953INFO:tensorflow:Assets written to: ./assets\n",
            "1875/1875 [==============================] - 4s 2ms/step - loss: 0.0133 - accuracy: 0.9954\n",
            "Epoch 3/20\n",
            "1857/1875 [============================>.] - ETA: 0s - loss: 0.0156 - accuracy: 0.9949INFO:tensorflow:Assets written to: ./assets\n",
            "1875/1875 [==============================] - 4s 2ms/step - loss: 0.0155 - accuracy: 0.9949\n",
            "Epoch 4/20\n",
            "1855/1875 [============================>.] - ETA: 0s - loss: 0.0116 - accuracy: 0.9963INFO:tensorflow:Assets written to: ./assets\n",
            "1875/1875 [==============================] - 5s 2ms/step - loss: 0.0117 - accuracy: 0.9963\n",
            "Epoch 5/20\n",
            "1862/1875 [============================>.] - ETA: 0s - loss: 0.0119 - accuracy: 0.9962INFO:tensorflow:Assets written to: ./assets\n",
            "1875/1875 [==============================] - 4s 2ms/step - loss: 0.0120 - accuracy: 0.9962\n",
            "Epoch 6/20\n",
            "1857/1875 [============================>.] - ETA: 0s - loss: 0.0128 - accuracy: 0.9957INFO:tensorflow:Assets written to: ./assets\n",
            "1875/1875 [==============================] - 4s 2ms/step - loss: 0.0129 - accuracy: 0.9957\n",
            "Epoch 7/20\n",
            "1854/1875 [============================>.] - ETA: 0s - loss: 0.0118 - accuracy: 0.9963INFO:tensorflow:Assets written to: ./assets\n",
            "1875/1875 [==============================] - 4s 2ms/step - loss: 0.0117 - accuracy: 0.9964\n",
            "Epoch 8/20\n",
            "1859/1875 [============================>.] - ETA: 0s - loss: 0.0121 - accuracy: 0.9960INFO:tensorflow:Assets written to: ./assets\n",
            "1875/1875 [==============================] - 4s 2ms/step - loss: 0.0123 - accuracy: 0.9960\n",
            "Epoch 9/20\n",
            "1853/1875 [============================>.] - ETA: 0s - loss: 0.0098 - accuracy: 0.9968INFO:tensorflow:Assets written to: ./assets\n",
            "1875/1875 [==============================] - 4s 2ms/step - loss: 0.0099 - accuracy: 0.9968\n",
            "Epoch 10/20\n",
            "1864/1875 [============================>.] - ETA: 0s - loss: 0.0125 - accuracy: 0.9963INFO:tensorflow:Assets written to: ./assets\n",
            "1875/1875 [==============================] - 4s 2ms/step - loss: 0.0126 - accuracy: 0.9962\n",
            "Epoch 11/20\n",
            "1850/1875 [============================>.] - ETA: 0s - loss: 0.0104 - accuracy: 0.9966INFO:tensorflow:Assets written to: ./assets\n",
            "1875/1875 [==============================] - 4s 2ms/step - loss: 0.0106 - accuracy: 0.9966\n",
            "Epoch 12/20\n",
            "1864/1875 [============================>.] - ETA: 0s - loss: 0.0127 - accuracy: 0.9961INFO:tensorflow:Assets written to: ./assets\n",
            "1875/1875 [==============================] - 4s 2ms/step - loss: 0.0127 - accuracy: 0.9961\n",
            "Epoch 13/20\n",
            "1865/1875 [============================>.] - ETA: 0s - loss: 0.0100 - accuracy: 0.9968INFO:tensorflow:Assets written to: ./assets\n",
            "1875/1875 [==============================] - 4s 2ms/step - loss: 0.0100 - accuracy: 0.9968\n",
            "Epoch 14/20\n",
            "1856/1875 [============================>.] - ETA: 0s - loss: 0.0117 - accuracy: 0.9963INFO:tensorflow:Assets written to: ./assets\n",
            "1875/1875 [==============================] - 4s 2ms/step - loss: 0.0117 - accuracy: 0.9963\n",
            "Epoch 15/20\n",
            "1858/1875 [============================>.] - ETA: 0s - loss: 0.0100 - accuracy: 0.9969INFO:tensorflow:Assets written to: ./assets\n",
            "1875/1875 [==============================] - 4s 2ms/step - loss: 0.0099 - accuracy: 0.9969\n",
            "Epoch 16/20\n",
            "1875/1875 [==============================] - ETA: 0s - loss: 0.0111 - accuracy: 0.9965INFO:tensorflow:Assets written to: ./assets\n",
            "1875/1875 [==============================] - 4s 2ms/step - loss: 0.0111 - accuracy: 0.9965\n",
            "Epoch 17/20\n",
            "1874/1875 [============================>.] - ETA: 0s - loss: 0.0094 - accuracy: 0.9971INFO:tensorflow:Assets written to: ./assets\n",
            "1875/1875 [==============================] - 4s 2ms/step - loss: 0.0094 - accuracy: 0.9971\n",
            "Epoch 18/20\n",
            "1850/1875 [============================>.] - ETA: 0s - loss: 0.0086 - accuracy: 0.9972INFO:tensorflow:Assets written to: ./assets\n",
            "1875/1875 [==============================] - 4s 2ms/step - loss: 0.0088 - accuracy: 0.9971\n",
            "Epoch 19/20\n",
            "1855/1875 [============================>.] - ETA: 0s - loss: 0.0083 - accuracy: 0.9974INFO:tensorflow:Assets written to: ./assets\n",
            "1875/1875 [==============================] - 4s 2ms/step - loss: 0.0083 - accuracy: 0.9974\n",
            "Epoch 20/20\n",
            "1870/1875 [============================>.] - ETA: 0s - loss: 0.0099 - accuracy: 0.9971INFO:tensorflow:Assets written to: ./assets\n",
            "1875/1875 [==============================] - 4s 2ms/step - loss: 0.0099 - accuracy: 0.9971\n"
          ],
          "name": "stdout"
        },
        {
          "output_type": "execute_result",
          "data": {
            "text/plain": [
              "<tensorflow.python.keras.callbacks.History at 0x7f76a3a13710>"
            ]
          },
          "metadata": {
            "tags": []
          },
          "execution_count": 17
        }
      ]
    },
    {
      "cell_type": "code",
      "metadata": {
        "id": "bc7rOFWyKzE6",
        "colab_type": "code",
        "colab": {}
      },
      "source": [
        "new_model.save('the_saved_model_40.h5')"
      ],
      "execution_count": 0,
      "outputs": []
    },
    {
      "cell_type": "code",
      "metadata": {
        "id": "K3mvyxDB5Jag",
        "colab_type": "code",
        "colab": {}
      },
      "source": [
        "model = tf.keras.models.load_model('the_saved_model_40.h5')"
      ],
      "execution_count": 0,
      "outputs": []
    },
    {
      "cell_type": "code",
      "metadata": {
        "id": "gjS-xpoJ5ZIQ",
        "colab_type": "code",
        "colab": {
          "base_uri": "https://localhost:8080/",
          "height": 595
        },
        "outputId": "03b072a2-940d-474b-84fc-afb7c00394f1"
      },
      "source": [
        "reduce_lr = tf.keras.callbacks.ReduceLROnPlateau(monitor='val_loss', factor=0.2,\n",
        "                              patience=5, min_lr=0.001)\n",
        "model.fit(x_train, y_train, epochs=10,callbacks=[reduce_lr])"
      ],
      "execution_count": 24,
      "outputs": [
        {
          "output_type": "stream",
          "text": [
            "Epoch 1/10\n",
            "1859/1875 [============================>.] - ETA: 0s - loss: 0.0082 - accuracy: 0.9976WARNING:tensorflow:Reduce LR on plateau conditioned on metric `val_loss` which is not available. Available metrics are: loss,accuracy,lr\n",
            "1875/1875 [==============================] - 4s 2ms/step - loss: 0.0083 - accuracy: 0.9976 - lr: 0.0010\n",
            "Epoch 2/10\n",
            "1865/1875 [============================>.] - ETA: 0s - loss: 0.0089 - accuracy: 0.9974WARNING:tensorflow:Reduce LR on plateau conditioned on metric `val_loss` which is not available. Available metrics are: loss,accuracy,lr\n",
            "1875/1875 [==============================] - 4s 2ms/step - loss: 0.0089 - accuracy: 0.9974 - lr: 0.0010\n",
            "Epoch 3/10\n",
            "1872/1875 [============================>.] - ETA: 0s - loss: 0.0076 - accuracy: 0.9973WARNING:tensorflow:Reduce LR on plateau conditioned on metric `val_loss` which is not available. Available metrics are: loss,accuracy,lr\n",
            "1875/1875 [==============================] - 4s 2ms/step - loss: 0.0076 - accuracy: 0.9973 - lr: 0.0010\n",
            "Epoch 4/10\n",
            "1853/1875 [============================>.] - ETA: 0s - loss: 0.0109 - accuracy: 0.9968WARNING:tensorflow:Reduce LR on plateau conditioned on metric `val_loss` which is not available. Available metrics are: loss,accuracy,lr\n",
            "1875/1875 [==============================] - 4s 2ms/step - loss: 0.0108 - accuracy: 0.9969 - lr: 0.0010\n",
            "Epoch 5/10\n",
            "1855/1875 [============================>.] - ETA: 0s - loss: 0.0089 - accuracy: 0.9974WARNING:tensorflow:Reduce LR on plateau conditioned on metric `val_loss` which is not available. Available metrics are: loss,accuracy,lr\n",
            "1875/1875 [==============================] - 4s 2ms/step - loss: 0.0089 - accuracy: 0.9974 - lr: 0.0010\n",
            "Epoch 6/10\n",
            "1864/1875 [============================>.] - ETA: 0s - loss: 0.0079 - accuracy: 0.9975WARNING:tensorflow:Reduce LR on plateau conditioned on metric `val_loss` which is not available. Available metrics are: loss,accuracy,lr\n",
            "1875/1875 [==============================] - 4s 2ms/step - loss: 0.0079 - accuracy: 0.9975 - lr: 0.0010\n",
            "Epoch 7/10\n",
            "1871/1875 [============================>.] - ETA: 0s - loss: 0.0082 - accuracy: 0.9973WARNING:tensorflow:Reduce LR on plateau conditioned on metric `val_loss` which is not available. Available metrics are: loss,accuracy,lr\n",
            "1875/1875 [==============================] - 4s 2ms/step - loss: 0.0082 - accuracy: 0.9973 - lr: 0.0010\n",
            "Epoch 8/10\n",
            "1875/1875 [==============================] - ETA: 0s - loss: 0.0086 - accuracy: 0.9976WARNING:tensorflow:Reduce LR on plateau conditioned on metric `val_loss` which is not available. Available metrics are: loss,accuracy,lr\n",
            "1875/1875 [==============================] - 4s 2ms/step - loss: 0.0086 - accuracy: 0.9976 - lr: 0.0010\n",
            "Epoch 9/10\n",
            "1870/1875 [============================>.] - ETA: 0s - loss: 0.0097 - accuracy: 0.9975WARNING:tensorflow:Reduce LR on plateau conditioned on metric `val_loss` which is not available. Available metrics are: loss,accuracy,lr\n",
            "1875/1875 [==============================] - 4s 2ms/step - loss: 0.0097 - accuracy: 0.9975 - lr: 0.0010\n",
            "Epoch 10/10\n",
            "1859/1875 [============================>.] - ETA: 0s - loss: 0.0089 - accuracy: 0.9973WARNING:tensorflow:Reduce LR on plateau conditioned on metric `val_loss` which is not available. Available metrics are: loss,accuracy,lr\n",
            "1875/1875 [==============================] - 4s 2ms/step - loss: 0.0090 - accuracy: 0.9973 - lr: 0.0010\n"
          ],
          "name": "stdout"
        },
        {
          "output_type": "execute_result",
          "data": {
            "text/plain": [
              "<tensorflow.python.keras.callbacks.History at 0x7f76a14b6390>"
            ]
          },
          "metadata": {
            "tags": []
          },
          "execution_count": 24
        }
      ]
    },
    {
      "cell_type": "code",
      "metadata": {
        "id": "-AA85vv-5htU",
        "colab_type": "code",
        "colab": {}
      },
      "source": [
        "model.save('the_save_model.h5')"
      ],
      "execution_count": 0,
      "outputs": []
    },
    {
      "cell_type": "code",
      "metadata": {
        "id": "ajQ7fhemApbQ",
        "colab_type": "code",
        "colab": {
          "base_uri": "https://localhost:8080/",
          "height": 53
        },
        "outputId": "97b32a8b-3893-42fb-9f80-ea18b3793c58"
      },
      "source": [
        "model.evaluate(x_test,y_test,verbose=1)"
      ],
      "execution_count": 26,
      "outputs": [
        {
          "output_type": "stream",
          "text": [
            "313/313 [==============================] - 0s 1ms/step - loss: 0.1685 - accuracy: 0.9799\n"
          ],
          "name": "stdout"
        },
        {
          "output_type": "execute_result",
          "data": {
            "text/plain": [
              "[0.1684793382883072, 0.9799000024795532]"
            ]
          },
          "metadata": {
            "tags": []
          },
          "execution_count": 26
        }
      ]
    },
    {
      "cell_type": "code",
      "metadata": {
        "id": "TLB21rR2AyQH",
        "colab_type": "code",
        "colab": {}
      },
      "source": [
        ""
      ],
      "execution_count": 0,
      "outputs": []
    }
  ]
}